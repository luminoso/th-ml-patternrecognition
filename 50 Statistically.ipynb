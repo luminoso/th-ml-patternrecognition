{
 "cells": [
  {
   "cell_type": "code",
   "execution_count": 1,
   "metadata": {},
   "outputs": [],
   "source": [
    "import os\n",
    "\n",
    "import aux_tools\n",
    "% matplotlib inline\n",
    "import matplotlib.pyplot as plt\n",
    "\n",
    "def save_fig(fig_id, tight_layout=True, fig_extension=\"pdf\", resolution=300):\n",
    "    path = os.path.join(os.getcwd(), fig_id + \".\" + fig_extension)\n",
    "    print(f\"Saving figure {fig_id} to {path}\")\n",
    "    if tight_layout:\n",
    "        plt.tight_layout()\n",
    "    plt.savefig(path, format=fig_extension, dpi=resolution)\n"
   ]
  },
  {
   "cell_type": "code",
   "execution_count": null,
   "metadata": {},
   "outputs": [],
   "source": []
  },
  {
   "cell_type": "markdown",
   "metadata": {},
   "source": [
    "# Using Centroids"
   ]
  },
  {
   "cell_type": "code",
   "execution_count": 2,
   "metadata": {},
   "outputs": [],
   "source": [
    "# Load serialized dataframe\n",
    "\n",
    "import pickle\n",
    "\n",
    "import pandas as pd\n",
    "\n",
    "# [86400, 21600, 7200, 3600, 900]\n",
    "\n",
    "file = \"df_900_0.3_v3.raw\"\n",
    "\n",
    "df = pickle.load(open(file, 'rb'))  # type: pd.DataFrame\n",
    "\n",
    "#encode window\n",
    "df['relative_day_position'] = df['relative_day_position'].apply(lambda x: int((x * 24) / 285))\n",
    "\n",
    "#remove zeros\n",
    "df = df[df['packet_count:mean'] != 0]\n",
    "\n",
    "df = df[df.entity != 'np_windows10x86.raw']\n",
    "df = df[df.entity != 'np_ubuntu.raw']\n"
   ]
  },
  {
   "cell_type": "code",
   "execution_count": 3,
   "metadata": {},
   "outputs": [
    {
     "data": {
      "text/html": [
       "<div>\n",
       "<style scoped>\n",
       "    .dataframe tbody tr th:only-of-type {\n",
       "        vertical-align: middle;\n",
       "    }\n",
       "\n",
       "    .dataframe tbody tr th {\n",
       "        vertical-align: top;\n",
       "    }\n",
       "\n",
       "    .dataframe thead th {\n",
       "        text-align: right;\n",
       "    }\n",
       "</style>\n",
       "<table border=\"1\" class=\"dataframe\">\n",
       "  <thead>\n",
       "    <tr style=\"text-align: right;\">\n",
       "      <th></th>\n",
       "      <th>packet_count:mean</th>\n",
       "      <th>packet_count:skew</th>\n",
       "      <th>packet_count:kurtosis</th>\n",
       "      <th>packet_count:var</th>\n",
       "      <th>ip_external:mean</th>\n",
       "      <th>ip_external:skew</th>\n",
       "      <th>ip_external:kurtosis</th>\n",
       "      <th>ip_external:var</th>\n",
       "      <th>ip_internal:mean</th>\n",
       "      <th>ip_internal:skew</th>\n",
       "      <th>...</th>\n",
       "      <th>wavelet_0</th>\n",
       "      <th>wavelet_1</th>\n",
       "      <th>wavelet_2</th>\n",
       "      <th>wavelet_3</th>\n",
       "      <th>wavelet_4</th>\n",
       "      <th>wavelet_5</th>\n",
       "      <th>wavelet_6</th>\n",
       "      <th>wavelet_7</th>\n",
       "      <th>wavelet_8</th>\n",
       "      <th>wavelet_9</th>\n",
       "    </tr>\n",
       "  </thead>\n",
       "  <tbody>\n",
       "    <tr>\n",
       "      <th>count</th>\n",
       "      <td>24211.000000</td>\n",
       "      <td>24211.000000</td>\n",
       "      <td>24211.000000</td>\n",
       "      <td>24211.000000</td>\n",
       "      <td>24211.000000</td>\n",
       "      <td>24211.000000</td>\n",
       "      <td>24211.000000</td>\n",
       "      <td>24211.000000</td>\n",
       "      <td>24211.000000</td>\n",
       "      <td>24211.000000</td>\n",
       "      <td>...</td>\n",
       "      <td>2.421100e+04</td>\n",
       "      <td>24211.000000</td>\n",
       "      <td>24211.000000</td>\n",
       "      <td>24211.000000</td>\n",
       "      <td>24211.000000</td>\n",
       "      <td>24211.000000</td>\n",
       "      <td>24211.000000</td>\n",
       "      <td>24211.000000</td>\n",
       "      <td>24211.000000</td>\n",
       "      <td>24211.000000</td>\n",
       "    </tr>\n",
       "    <tr>\n",
       "      <th>mean</th>\n",
       "      <td>19.261102</td>\n",
       "      <td>3.520995</td>\n",
       "      <td>1.206012</td>\n",
       "      <td>9.829618</td>\n",
       "      <td>8.085287</td>\n",
       "      <td>0.239601</td>\n",
       "      <td>0.160389</td>\n",
       "      <td>0.063568</td>\n",
       "      <td>7370.569445</td>\n",
       "      <td>8754.299032</td>\n",
       "      <td>...</td>\n",
       "      <td>1.054881e-07</td>\n",
       "      <td>0.004323</td>\n",
       "      <td>0.004891</td>\n",
       "      <td>0.005058</td>\n",
       "      <td>0.005504</td>\n",
       "      <td>0.005909</td>\n",
       "      <td>0.006245</td>\n",
       "      <td>0.006679</td>\n",
       "      <td>0.007086</td>\n",
       "      <td>0.007942</td>\n",
       "    </tr>\n",
       "    <tr>\n",
       "      <th>std</th>\n",
       "      <td>17.376525</td>\n",
       "      <td>2.882928</td>\n",
       "      <td>0.411179</td>\n",
       "      <td>7.555432</td>\n",
       "      <td>11.359693</td>\n",
       "      <td>0.387261</td>\n",
       "      <td>0.180290</td>\n",
       "      <td>0.116047</td>\n",
       "      <td>31040.169194</td>\n",
       "      <td>14733.532469</td>\n",
       "      <td>...</td>\n",
       "      <td>9.534165e-08</td>\n",
       "      <td>0.003049</td>\n",
       "      <td>0.002555</td>\n",
       "      <td>0.001481</td>\n",
       "      <td>0.001402</td>\n",
       "      <td>0.001452</td>\n",
       "      <td>0.001472</td>\n",
       "      <td>0.001647</td>\n",
       "      <td>0.001805</td>\n",
       "      <td>0.002903</td>\n",
       "    </tr>\n",
       "    <tr>\n",
       "      <th>min</th>\n",
       "      <td>0.001111</td>\n",
       "      <td>0.001111</td>\n",
       "      <td>0.001111</td>\n",
       "      <td>0.000000</td>\n",
       "      <td>0.000000</td>\n",
       "      <td>0.000000</td>\n",
       "      <td>0.000000</td>\n",
       "      <td>0.000000</td>\n",
       "      <td>0.000000</td>\n",
       "      <td>0.000000</td>\n",
       "      <td>...</td>\n",
       "      <td>1.122976e-09</td>\n",
       "      <td>0.000136</td>\n",
       "      <td>0.000488</td>\n",
       "      <td>0.000656</td>\n",
       "      <td>0.000385</td>\n",
       "      <td>0.000826</td>\n",
       "      <td>0.001061</td>\n",
       "      <td>0.000839</td>\n",
       "      <td>0.000690</td>\n",
       "      <td>0.000557</td>\n",
       "    </tr>\n",
       "    <tr>\n",
       "      <th>25%</th>\n",
       "      <td>10.608333</td>\n",
       "      <td>1.282222</td>\n",
       "      <td>1.000000</td>\n",
       "      <td>5.410000</td>\n",
       "      <td>0.757778</td>\n",
       "      <td>0.043333</td>\n",
       "      <td>0.032222</td>\n",
       "      <td>0.013333</td>\n",
       "      <td>1248.917778</td>\n",
       "      <td>1049.348333</td>\n",
       "      <td>...</td>\n",
       "      <td>4.645828e-08</td>\n",
       "      <td>0.002377</td>\n",
       "      <td>0.003400</td>\n",
       "      <td>0.004131</td>\n",
       "      <td>0.004665</td>\n",
       "      <td>0.004997</td>\n",
       "      <td>0.005228</td>\n",
       "      <td>0.005515</td>\n",
       "      <td>0.005827</td>\n",
       "      <td>0.006005</td>\n",
       "    </tr>\n",
       "    <tr>\n",
       "      <th>50%</th>\n",
       "      <td>12.898889</td>\n",
       "      <td>2.203333</td>\n",
       "      <td>1.058889</td>\n",
       "      <td>9.042222</td>\n",
       "      <td>3.722222</td>\n",
       "      <td>0.114444</td>\n",
       "      <td>0.093333</td>\n",
       "      <td>0.033333</td>\n",
       "      <td>2986.207778</td>\n",
       "      <td>3920.926667</td>\n",
       "      <td>...</td>\n",
       "      <td>7.169420e-08</td>\n",
       "      <td>0.003394</td>\n",
       "      <td>0.004424</td>\n",
       "      <td>0.004963</td>\n",
       "      <td>0.005427</td>\n",
       "      <td>0.005817</td>\n",
       "      <td>0.006201</td>\n",
       "      <td>0.006629</td>\n",
       "      <td>0.007053</td>\n",
       "      <td>0.007577</td>\n",
       "    </tr>\n",
       "    <tr>\n",
       "      <th>75%</th>\n",
       "      <td>21.188333</td>\n",
       "      <td>6.273333</td>\n",
       "      <td>1.294444</td>\n",
       "      <td>11.918889</td>\n",
       "      <td>8.382222</td>\n",
       "      <td>0.274444</td>\n",
       "      <td>0.227778</td>\n",
       "      <td>0.071111</td>\n",
       "      <td>4356.306667</td>\n",
       "      <td>5492.562222</td>\n",
       "      <td>...</td>\n",
       "      <td>1.265121e-07</td>\n",
       "      <td>0.005354</td>\n",
       "      <td>0.005800</td>\n",
       "      <td>0.005863</td>\n",
       "      <td>0.006209</td>\n",
       "      <td>0.006694</td>\n",
       "      <td>0.007182</td>\n",
       "      <td>0.007761</td>\n",
       "      <td>0.008248</td>\n",
       "      <td>0.009388</td>\n",
       "    </tr>\n",
       "    <tr>\n",
       "      <th>max</th>\n",
       "      <td>176.181111</td>\n",
       "      <td>13.491111</td>\n",
       "      <td>3.273333</td>\n",
       "      <td>97.962222</td>\n",
       "      <td>162.067778</td>\n",
       "      <td>4.721111</td>\n",
       "      <td>2.312222</td>\n",
       "      <td>3.491111</td>\n",
       "      <td>749094.087778</td>\n",
       "      <td>208427.212222</td>\n",
       "      <td>...</td>\n",
       "      <td>1.763502e-06</td>\n",
       "      <td>0.031743</td>\n",
       "      <td>0.052417</td>\n",
       "      <td>0.021982</td>\n",
       "      <td>0.021836</td>\n",
       "      <td>0.025778</td>\n",
       "      <td>0.017516</td>\n",
       "      <td>0.017664</td>\n",
       "      <td>0.016140</td>\n",
       "      <td>0.036663</td>\n",
       "    </tr>\n",
       "  </tbody>\n",
       "</table>\n",
       "<p>8 rows × 63 columns</p>\n",
       "</div>"
      ],
      "text/plain": [
       "       packet_count:mean  packet_count:skew  packet_count:kurtosis  \\\n",
       "count       24211.000000       24211.000000           24211.000000   \n",
       "mean           19.261102           3.520995               1.206012   \n",
       "std            17.376525           2.882928               0.411179   \n",
       "min             0.001111           0.001111               0.001111   \n",
       "25%            10.608333           1.282222               1.000000   \n",
       "50%            12.898889           2.203333               1.058889   \n",
       "75%            21.188333           6.273333               1.294444   \n",
       "max           176.181111          13.491111               3.273333   \n",
       "\n",
       "       packet_count:var  ip_external:mean  ip_external:skew  \\\n",
       "count      24211.000000      24211.000000      24211.000000   \n",
       "mean           9.829618          8.085287          0.239601   \n",
       "std            7.555432         11.359693          0.387261   \n",
       "min            0.000000          0.000000          0.000000   \n",
       "25%            5.410000          0.757778          0.043333   \n",
       "50%            9.042222          3.722222          0.114444   \n",
       "75%           11.918889          8.382222          0.274444   \n",
       "max           97.962222        162.067778          4.721111   \n",
       "\n",
       "       ip_external:kurtosis  ip_external:var  ip_internal:mean  \\\n",
       "count          24211.000000     24211.000000      24211.000000   \n",
       "mean               0.160389         0.063568       7370.569445   \n",
       "std                0.180290         0.116047      31040.169194   \n",
       "min                0.000000         0.000000          0.000000   \n",
       "25%                0.032222         0.013333       1248.917778   \n",
       "50%                0.093333         0.033333       2986.207778   \n",
       "75%                0.227778         0.071111       4356.306667   \n",
       "max                2.312222         3.491111     749094.087778   \n",
       "\n",
       "       ip_internal:skew      ...          wavelet_0     wavelet_1  \\\n",
       "count      24211.000000      ...       2.421100e+04  24211.000000   \n",
       "mean        8754.299032      ...       1.054881e-07      0.004323   \n",
       "std        14733.532469      ...       9.534165e-08      0.003049   \n",
       "min            0.000000      ...       1.122976e-09      0.000136   \n",
       "25%         1049.348333      ...       4.645828e-08      0.002377   \n",
       "50%         3920.926667      ...       7.169420e-08      0.003394   \n",
       "75%         5492.562222      ...       1.265121e-07      0.005354   \n",
       "max       208427.212222      ...       1.763502e-06      0.031743   \n",
       "\n",
       "          wavelet_2     wavelet_3     wavelet_4     wavelet_5     wavelet_6  \\\n",
       "count  24211.000000  24211.000000  24211.000000  24211.000000  24211.000000   \n",
       "mean       0.004891      0.005058      0.005504      0.005909      0.006245   \n",
       "std        0.002555      0.001481      0.001402      0.001452      0.001472   \n",
       "min        0.000488      0.000656      0.000385      0.000826      0.001061   \n",
       "25%        0.003400      0.004131      0.004665      0.004997      0.005228   \n",
       "50%        0.004424      0.004963      0.005427      0.005817      0.006201   \n",
       "75%        0.005800      0.005863      0.006209      0.006694      0.007182   \n",
       "max        0.052417      0.021982      0.021836      0.025778      0.017516   \n",
       "\n",
       "          wavelet_7     wavelet_8     wavelet_9  \n",
       "count  24211.000000  24211.000000  24211.000000  \n",
       "mean       0.006679      0.007086      0.007942  \n",
       "std        0.001647      0.001805      0.002903  \n",
       "min        0.000839      0.000690      0.000557  \n",
       "25%        0.005515      0.005827      0.006005  \n",
       "50%        0.006629      0.007053      0.007577  \n",
       "75%        0.007761      0.008248      0.009388  \n",
       "max        0.017664      0.016140      0.036663  \n",
       "\n",
       "[8 rows x 63 columns]"
      ]
     },
     "execution_count": 3,
     "metadata": {},
     "output_type": "execute_result"
    }
   ],
   "source": [
    "df.describe()"
   ]
  },
  {
   "cell_type": "code",
   "execution_count": 4,
   "metadata": {},
   "outputs": [
    {
     "data": {
      "text/plain": [
       "np_freebsd.raw    8931\n",
       "np_nuc.raw        8501\n",
       "np_tohiba.raw     3792\n",
       "np_x58pc.raw      2987\n",
       "Name: entity, dtype: int64"
      ]
     },
     "execution_count": 4,
     "metadata": {},
     "output_type": "execute_result"
    }
   ],
   "source": [
    "df['entity'].value_counts()"
   ]
  },
  {
   "cell_type": "code",
   "execution_count": 5,
   "metadata": {},
   "outputs": [],
   "source": [
    "from sklearn.model_selection import train_test_split\n",
    "\n",
    "X_train, X_test = train_test_split(df,\n",
    "                                   test_size=0.33,\n",
    "                                   random_state=42)\n"
   ]
  },
  {
   "cell_type": "code",
   "execution_count": 6,
   "metadata": {},
   "outputs": [],
   "source": [
    "import numpy as np\n",
    "\n",
    "centroids = {}\n",
    "\n",
    "for entity in X_train.entity.unique():\n",
    "    mask = X_train[X_train['entity'] == entity]\n",
    "    mask = mask.drop(columns=['entity'])\n",
    "\n",
    "    features_mean = np.mean(mask.as_matrix(), axis=0)\n",
    "\n",
    "    #print(f\"Mean for entity {entity}: {features_mean}\")\n",
    "\n",
    "    centroids.update({entity: features_mean})\n"
   ]
  },
  {
   "cell_type": "code",
   "execution_count": 7,
   "metadata": {},
   "outputs": [
    {
     "data": {
      "text/plain": [
       "{'np_freebsd.raw': array([ 1.19438129e+01,  6.74818825e+00,  9.93532721e-01,  9.43838337e+00,\n",
       "         2.47968440e+00,  2.54255825e-01,  2.65411677e-01,  4.76881092e-02,\n",
       "         4.02928140e+03,  4.62909900e+03,  4.23280423e-04,  1.87540945e+00,\n",
       "        -2.28126426e+00, -1.01540868e-01, -4.38727611e+00, -7.73760350e-01,\n",
       "         1.12391345e+00,  3.56924570e+00,  6.79275870e+00,  9.03191228e+00,\n",
       "         7.26672622e-01,  2.57759393e+00,  6.77045788e-02,  1.10653393e+00,\n",
       "         1.59538181e+01,  4.45491215e-01,  1.02762960e+02,  1.63431825e+00,\n",
       "         2.46863488e+00,  1.84980634e+01,  7.50698864e+01,  1.09232298e+02,\n",
       "         8.84319850e-01,  2.04507497e+01, -1.12530956e+00,  2.26802510e+00,\n",
       "         1.86532023e+00,  6.13630734e+00,  4.56126407e-03,  4.88326675e+00,\n",
       "         3.89634769e+00,  4.46837915e-01,  6.52360687e-01,  8.80567018e-02,\n",
       "         6.79319558e+06,  2.02920290e+07,  4.81735450e-02,  2.46978758e+00,\n",
       "         6.90904094e+03,  1.16235589e+01,  1.67535505e+00,  1.40478391e+00,\n",
       "         6.66813443e+01,  1.81982629e-07,  6.60359776e-03,  5.64644018e-03,\n",
       "         5.41181489e-03,  5.34510469e-03,  5.33546677e-03,  5.53492290e-03,\n",
       "         5.93214615e-03,  6.38375476e-03,  7.24781208e-03]),\n",
       " 'np_nuc.raw': array([2.82810757e+01, 1.50575816e+00, 1.40179638e+00, 1.13412166e+01,\n",
       "        1.61061396e+01, 1.36927463e-01, 8.35657150e-02, 7.06673673e-02,\n",
       "        2.99445464e+03, 1.83077616e+04, 1.88438693e+02, 2.76839104e-01,\n",
       "        2.34609928e-01, 1.47082115e+00, 2.55214964e+00, 1.49241263e+00,\n",
       "        1.70319522e+00, 7.29669663e+00, 8.69275650e+00, 9.52335348e+00,\n",
       "        2.88901396e+00, 1.77899874e+00, 9.93623069e+00, 4.73254201e+00,\n",
       "        6.89501057e+00, 3.83367442e+00, 1.31668211e+01, 8.49276217e+00,\n",
       "        1.17119314e+01, 8.65107990e+01, 1.21249588e+02, 1.46510291e+02,\n",
       "        2.69853086e+01, 1.40083165e+01, 1.40605753e+02, 4.18896811e+01,\n",
       "        1.19680246e+02, 4.83890629e-01, 5.42581356e-01, 4.73617246e+01,\n",
       "        7.21678581e+01, 3.30451659e-01, 1.49280541e-01, 1.24630502e-01,\n",
       "        5.89295370e+07, 1.41324779e+08, 1.39634672e+06, 3.57881792e-01,\n",
       "        6.44466597e+03, 1.15345945e+01, 1.84366789e+01, 1.87636027e+00,\n",
       "        3.67154165e+01, 5.96180429e-08, 2.87135472e-03, 4.30694454e-03,\n",
       "        4.87736061e-03, 5.64701598e-03, 6.17382238e-03, 6.72975715e-03,\n",
       "        7.28712002e-03, 7.62178685e-03, 8.14574259e-03]),\n",
       " 'np_tohiba.raw': array([2.65084822e+01, 2.23049976e+00, 1.16715143e+00, 1.08304839e+01,\n",
       "        9.53359005e+00, 5.82014027e-01, 1.72520401e-01, 1.14986547e-01,\n",
       "        2.88289710e+04, 3.81761416e+03, 1.84796690e+04, 4.72260597e-01,\n",
       "        3.37521452e+00, 1.80867767e+00, 1.81675620e+00, 4.45415570e+00,\n",
       "        4.98273824e+00, 7.87933794e+00, 9.76146790e+00, 1.17545594e+01,\n",
       "        1.00389019e+01, 8.23572733e+00, 5.39085733e+00, 8.23859378e+00,\n",
       "        2.56291069e+01, 9.18773161e+00, 6.39738169e+00, 3.49875259e+01,\n",
       "        4.19516678e+01, 1.02483843e+02, 1.51082933e+02, 1.88051347e+02,\n",
       "        1.51957304e+02, 1.19275890e+02, 6.63451321e+01, 1.02073657e+02,\n",
       "        1.39605311e+03, 3.25362321e+00, 4.40118152e-01, 3.70891390e+02,\n",
       "        3.80658068e+02, 2.69341645e+00, 9.77962423e-01, 1.32007929e+00,\n",
       "        1.62140736e+10, 2.89954402e+08, 5.80816464e+08, 1.21511251e+01,\n",
       "        5.31142358e+03, 1.27173482e+01, 3.60611354e+01, 2.30532040e+01,\n",
       "        2.39367323e+03, 4.60540812e-08, 2.27427899e-03, 4.04322904e-03,\n",
       "        4.43736760e-03, 5.43818885e-03, 6.50508374e-03, 6.95421019e-03,\n",
       "        7.38545471e-03, 7.85384608e-03, 8.79085973e-03]),\n",
       " 'np_x58pc.raw': array([5.93032094e+00, 1.19661410e+00, 1.32171481e+00, 5.08791279e+00,\n",
       "        5.03541390e-05, 5.01543825e-02, 4.69267375e-02, 2.02794378e-02,\n",
       "        1.78057120e+03, 1.14518039e+01, 2.14154989e+02, 5.12338977e-01,\n",
       "        3.59026695e+00, 1.40447252e+00, 1.27609164e+00, 4.18129552e+00,\n",
       "        9.07824271e-01, 8.95210579e+00, 9.60843226e+00, 1.50928524e+01,\n",
       "        8.74390966e+00, 3.70943605e+00, 1.42585431e+01, 6.87775197e+00,\n",
       "        2.65139004e+01, 5.16105598e+00, 3.87258212e+00, 3.78853829e+01,\n",
       "        2.24064250e+01, 1.04308832e+02, 1.20986179e+02, 2.99718229e+02,\n",
       "        1.31376163e+02, 2.62299250e+01, 2.57078113e+02, 8.32305819e+01,\n",
       "        4.89185640e+01, 1.04665535e+00, 8.96538778e-01, 4.32729501e+01,\n",
       "        5.02600708e-05, 1.29628750e-01, 1.21617034e-01, 5.50928453e-02,\n",
       "        2.23211406e+07, 1.08765865e+03, 1.37725218e+06, 4.12988019e+00,\n",
       "        3.76187301e+03, 1.18904382e+01, 9.82216135e+01, 5.33122906e+00,\n",
       "        1.24466969e+03, 8.24056740e-08, 4.25844478e-03, 5.30577795e-03,\n",
       "        5.43370492e-03, 5.80286520e-03, 6.14539099e-03, 6.01127815e-03,\n",
       "        6.14348854e-03, 6.58173921e-03, 8.45503658e-03])}"
      ]
     },
     "execution_count": 7,
     "metadata": {},
     "output_type": "execute_result"
    }
   ],
   "source": [
    "centroids"
   ]
  },
  {
   "cell_type": "code",
   "execution_count": null,
   "metadata": {},
   "outputs": [],
   "source": []
  },
  {
   "cell_type": "code",
   "execution_count": null,
   "metadata": {},
   "outputs": [],
   "source": []
  },
  {
   "cell_type": "code",
   "execution_count": 8,
   "metadata": {},
   "outputs": [],
   "source": [
    "hit = 0\n",
    "miss = 0\n",
    "\n",
    "for c, (index, series) in enumerate(X_test.iterrows()):\n",
    "\n",
    "    values = series.drop('entity').as_matrix()\n",
    "    \n",
    "    dists = [np.sqrt(np.sum(np.square(values - centroids[c]))) for c in centroids]\n",
    "    ndists = dists / np.sum(dists)\n",
    "    testClass = np.argsort(dists)[0]\n",
    "\n",
    "    name = series['entity']\n",
    "\n",
    "    if list(centroids)[testClass] == name:\n",
    "        hit = hit + 1\n",
    "    else:\n",
    "        miss = miss + 1\n"
   ]
  },
  {
   "cell_type": "code",
   "execution_count": 9,
   "metadata": {},
   "outputs": [
    {
     "data": {
      "text/plain": [
       "0.6526908635794744"
      ]
     },
     "execution_count": 9,
     "metadata": {},
     "output_type": "execute_result"
    }
   ],
   "source": [
    "hit / (hit + miss)\n"
   ]
  },
  {
   "cell_type": "code",
   "execution_count": null,
   "metadata": {},
   "outputs": [],
   "source": []
  },
  {
   "cell_type": "code",
   "execution_count": null,
   "metadata": {},
   "outputs": [],
   "source": []
  },
  {
   "cell_type": "code",
   "execution_count": null,
   "metadata": {},
   "outputs": [],
   "source": []
  },
  {
   "cell_type": "markdown",
   "metadata": {},
   "source": [
    "# Multivariate PDF "
   ]
  },
  {
   "cell_type": "code",
   "execution_count": 10,
   "metadata": {},
   "outputs": [],
   "source": [
    "# Load serialized dataframe\n",
    "\n",
    "import pickle\n",
    "\n",
    "import pandas as pd\n",
    "\n",
    "# [86400, 21600, 7200, 3600, 900]\n",
    "\n",
    "file = \"df_900_0.3_v3.raw\"\n",
    "\n",
    "df = pickle.load(open(file, 'rb'))  # type: pd.DataFrame\n",
    "\n",
    "#encode window\n",
    "df['relative_day_position'] = df['relative_day_position'].apply(lambda x: int((x * 24) / 285))\n",
    "\n",
    "#remove zeros\n",
    "df = df[df['packet_count:mean'] != 0]\n",
    "\n",
    "df = df[df.entity != 'np_windows10x86.raw']\n",
    "df = df[df.entity != 'np_ubuntu.raw']\n",
    "\n",
    "df_bk = df.copy()\n"
   ]
  },
  {
   "cell_type": "code",
   "execution_count": 11,
   "metadata": {},
   "outputs": [],
   "source": [
    "from sklearn.pipeline import Pipeline\n",
    "from sklearn.preprocessing import StandardScaler\n",
    "\n",
    "num_attribs = list(df.drop(\"entity\", axis=1))  # numerical attributes\n",
    "\n",
    "# numerical and categorical pipelines\n",
    "num_pipeline = Pipeline([\n",
    "    #('imputer', Imputer(strategy=\"median\")),\n",
    "    #('attribs_adder', CombinedAttributesAdder()),\n",
    "    ('selector', aux_tools.DataFrameSelector(num_attribs)),\n",
    "    ('std_scaler', StandardScaler()),\n",
    "    #('robust_scaler', RobustScaler()),\n",
    "])\n",
    "\n",
    "sliding_window_pipeline = Pipeline([\n",
    "    ('selector', aux_tools.DataFrameSelector('relative_day_position')),\n",
    "    ('revel', aux_tools.DataFrameRevel()),\n",
    "    ('cat_encoder', aux_tools.CategoricalEncoder(encoding=\"onehot-dense\")),\n",
    "])\n"
   ]
  },
  {
   "cell_type": "code",
   "execution_count": 12,
   "metadata": {},
   "outputs": [],
   "source": [
    "from sklearn.pipeline import FeatureUnion\n",
    "\n",
    "full_pipeline = FeatureUnion(transformer_list=[\n",
    "    (\"num_pipeline\", num_pipeline),\n",
    "    (\"sliding_window_pipeline\", sliding_window_pipeline),\n",
    "])\n"
   ]
  },
  {
   "cell_type": "code",
   "execution_count": null,
   "metadata": {},
   "outputs": [],
   "source": []
  },
  {
   "cell_type": "code",
   "execution_count": 13,
   "metadata": {},
   "outputs": [],
   "source": [
    "from sklearn.utils import shuffle\n",
    "\n",
    "df = shuffle(df)\n",
    "\n",
    "fulldata = full_pipeline.fit_transform(df)\n",
    "cat_encoder = aux_tools.CategoricalEncoder(encoding=\"ordinal\")\n",
    "fulldata_labels = df['entity'].values.reshape(-1, 1)\n",
    "fulldata_labels_ordinal = cat_encoder.fit_transform(fulldata_labels)\n"
   ]
  },
  {
   "cell_type": "code",
   "execution_count": 14,
   "metadata": {},
   "outputs": [],
   "source": [
    "from sklearn.decomposition import PCA\n",
    "\n",
    "pca = PCA(n_components=2, svd_solver='full')\n",
    "pca.fit(fulldata)\n",
    "fulldata_pca = pca.transform(fulldata)\n"
   ]
  },
  {
   "cell_type": "code",
   "execution_count": 15,
   "metadata": {},
   "outputs": [],
   "source": [
    "from sklearn.model_selection import train_test_split\n",
    "\n",
    "X_train, X_test, labels_train, labels_test = train_test_split(fulldata_pca,\n",
    "                                                              fulldata_labels_ordinal,\n",
    "                                                              test_size=0.33,\n",
    "                                                              random_state=42)\n"
   ]
  },
  {
   "cell_type": "code",
   "execution_count": null,
   "metadata": {},
   "outputs": [],
   "source": []
  },
  {
   "cell_type": "code",
   "execution_count": null,
   "metadata": {},
   "outputs": [],
   "source": []
  },
  {
   "cell_type": "code",
   "execution_count": 16,
   "metadata": {},
   "outputs": [],
   "source": [
    "import numpy as np\n",
    "\n",
    "means = {}\n",
    "for c, _ in enumerate(cat_encoder.categories_[0]):\n",
    "    pClass = (labels_train == c).flatten()\n",
    "    means.update({c: np.mean(X_train[pClass, :], axis=0)})\n"
   ]
  },
  {
   "cell_type": "code",
   "execution_count": 17,
   "metadata": {},
   "outputs": [],
   "source": [
    "covs = {}\n",
    "for c, _ in enumerate(cat_encoder.categories_[0]):\n",
    "    pClass = (labels_train == c).flatten()\n",
    "    covs.update({c: np.cov(X_train[pClass, :], rowvar=0)})\n",
    "# print(covs)\n"
   ]
  },
  {
   "cell_type": "code",
   "execution_count": 26,
   "metadata": {},
   "outputs": [
    {
     "data": {
      "text/plain": [
       "{0: array([[1.84907036, 0.02172234],\n",
       "        [0.02172234, 0.33215407]]), 1: array([[2.9726555 , 0.12479046],\n",
       "        [0.12479046, 2.98057929]]), 2: array([[ 6.55653835, -8.11377329],\n",
       "        [-8.11377329, 27.33911658]]), 3: array([[ 5.10878238, -1.33077965],\n",
       "        [-1.33077965,  1.13207495]])}"
      ]
     },
     "execution_count": 26,
     "metadata": {},
     "output_type": "execute_result"
    }
   ],
   "source": [
    "covs"
   ]
  },
  {
   "cell_type": "code",
   "execution_count": 18,
   "metadata": {},
   "outputs": [],
   "source": [
    "from scipy.stats import multivariate_normal\n",
    "\n",
    "for i, observation in enumerate(X_test):\n",
    "\n",
    "    probs = np.array([])\n",
    "    \n",
    "    for entity in range(0, len(covs)):\n",
    "        probs = np.append(probs, multivariate_normal.pdf(observation, means[entity], covs[entity]))\n",
    "\n",
    "    testClass = np.argsort(probs)[-1]\n",
    "\n",
    "    if testClass == labels_test[i]:\n",
    "        hit = hit + 1\n",
    "    else:\n",
    "        miss = miss + 1\n"
   ]
  },
  {
   "cell_type": "code",
   "execution_count": 25,
   "metadata": {},
   "outputs": [
    {
     "data": {
      "text/plain": [
       "[<matplotlib.lines.Line2D at 0x7fb89b175048>]"
      ]
     },
     "execution_count": 25,
     "metadata": {},
     "output_type": "execute_result"
    },
    {
     "data": {
      "image/png": "[encoded data removed]",
      "text/plain": [
       "<matplotlib.figure.Figure at 0x7fb899d42b70>"
      ]
     },
     "metadata": {},
     "output_type": "display_data"
    }
   ],
   "source": [
    "plt.plot(fulldata_pca[:,0],fulldata_pca[:,1],'o')"
   ]
  },
  {
   "cell_type": "code",
   "execution_count": 19,
   "metadata": {},
   "outputs": [
    {
     "data": {
      "text/plain": [
       "0.6973717146433042"
      ]
     },
     "execution_count": 19,
     "metadata": {},
     "output_type": "execute_result"
    }
   ],
   "source": [
    "hit / (hit + miss)"
   ]
  },
  {
   "cell_type": "code",
   "execution_count": null,
   "metadata": {},
   "outputs": [],
   "source": []
  },
  {
   "cell_type": "code",
   "execution_count": 20,
   "metadata": {},
   "outputs": [
    {
     "data": {
      "text/plain": [
       "['Lab-D', 'Lab-A', 'Lab-C', 'Lab-B']"
      ]
     },
     "execution_count": 20,
     "metadata": {},
     "output_type": "execute_result"
    }
   ],
   "source": [
    "[aux_tools.labnames[x] for x in list(cat_encoder.categories_[0])]"
   ]
  }
 ],
 "metadata": {
  "kernelspec": {
   "display_name": "Python 3",
   "language": "python",
   "name": "python3"
  },
  "language_info": {
   "codemirror_mode": {
    "name": "ipython",
    "version": 3
   },
   "file_extension": ".py",
   "mimetype": "text/x-python",
   "name": "python",
   "nbconvert_exporter": "python",
   "pygments_lexer": "ipython3",
   "version": "3.6.5"
  }
 },
 "nbformat": 4,
 "nbformat_minor": 2
}
