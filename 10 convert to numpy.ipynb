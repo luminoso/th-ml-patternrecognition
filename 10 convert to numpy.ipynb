{
 "cells": [
  {
   "cell_type": "code",
   "execution_count": 1,
   "metadata": {},
   "outputs": [],
   "source": [
    "import itertools\n",
    "import pickle\n",
    "from typing import List\n",
    "\n",
    "import numpy as np\n",
    "import pandas as pd\n",
    "from scipy import stats\n",
    "from sklearn.feature_extraction import image\n",
    "\n",
    "from time_utils import Timebar\n",
    "import multiprocessing\n"
   ]
  },
  {
   "cell_type": "code",
   "execution_count": null,
   "metadata": {},
   "outputs": [],
   "source": [
    "def compute_features(file: str, nr_splits: int = 24, skip_weekends: bool = True, slide_minutes: int = 1):\n",
    "    \"\"\"\n",
    "    Computes features for the sniffed aggregated data\n",
    "    :param raw_files: list of files containing serialized pickle Timebar data\n",
    "    :param nr_splits: Split each day in how many blocks\n",
    "    :param skip_weekends: Compute features only from monday to friday\n",
    "    :return: list with all features from all raw_files\n",
    "    \"\"\"\n",
    "\n",
    "    features = []\n",
    "\n",
    "    print(f\"Loading {file}...\", end=\" \")\n",
    "    days = pickle.load(open(file, 'rb'))  # type: List[Timebar]\n",
    "    print(\"done.\", end=\"\\t\")\n",
    "\n",
    "    print(f\"Split size: {nr_splits}\")\n",
    "\n",
    "    nr_days = 0\n",
    "    nr_blocks = 0\n",
    "    nr_skip_days = 0\n",
    "\n",
    "    for day in days:\n",
    "\n",
    "        # check if day is empty\n",
    "        if day.is_empty():\n",
    "            nr_skip_days = nr_skip_days + 1\n",
    "            continue\n",
    "\n",
    "        if day.is_weekend() and skip_weekends:\n",
    "            nr_skip_days = nr_skip_days + 1\n",
    "            continue\n",
    "        features.append(day.unroll_to_np())\n",
    "\n",
    "        nr_days = nr_days + 1\n",
    "\n",
    "    print(f\"{nr_days} days splitted in {nr_blocks} blocks and skipped {nr_skip_days} days.\")\n",
    "\n",
    "    return np.array(features)"
   ]
  },
  {
   "cell_type": "code",
   "execution_count": 2,
   "metadata": {},
   "outputs": [
    {
     "ename": "NameError",
     "evalue": "name 'compute_features' is not defined",
     "output_type": "error",
     "traceback": [
      "\u001b[0;31m---------------------------------------------------------------------------\u001b[0m",
      "\u001b[0;31mNameError\u001b[0m                                 Traceback (most recent call last)",
      "\u001b[0;32m<ipython-input-2-b16c69ef0af7>\u001b[0m in \u001b[0;36m<module>\u001b[0;34m()\u001b[0m\n\u001b[1;32m     10\u001b[0m \u001b[0;32mfor\u001b[0m \u001b[0mfile\u001b[0m \u001b[0;32min\u001b[0m \u001b[0mraw_files\u001b[0m\u001b[0;34m:\u001b[0m\u001b[0;34m\u001b[0m\u001b[0m\n\u001b[1;32m     11\u001b[0m \u001b[0;34m\u001b[0m\u001b[0m\n\u001b[0;32m---> 12\u001b[0;31m     \u001b[0mfeatures\u001b[0m \u001b[0;34m=\u001b[0m \u001b[0mcompute_features\u001b[0m\u001b[0;34m(\u001b[0m\u001b[0mfile\u001b[0m\u001b[0;34m,\u001b[0m \u001b[0mskip_weekends\u001b[0m\u001b[0;34m=\u001b[0m\u001b[0;32mTrue\u001b[0m\u001b[0;34m)\u001b[0m\u001b[0;34m\u001b[0m\u001b[0m\n\u001b[0m\u001b[1;32m     13\u001b[0m \u001b[0;34m\u001b[0m\u001b[0m\n\u001b[1;32m     14\u001b[0m     \u001b[0mfilename\u001b[0m \u001b[0;34m=\u001b[0m \u001b[0;34mf\"numpy_{file}.raw\"\u001b[0m\u001b[0;34m\u001b[0m\u001b[0m\n",
      "\u001b[0;31mNameError\u001b[0m: name 'compute_features' is not defined"
     ]
    }
   ],
   "source": [
    "raw_files = [\n",
    "    \"counters_ubuntu.raw\",\n",
    "    \"counters_freebsd.raw\",\n",
    "    \"counters_toshiba.raw\",\n",
    "    \"counters_windows10x86.raw\",\n",
    "    \"counters_x58pc.raw\",\n",
    "    \"counters_nuc.raw\"\n",
    "]\n",
    "\n",
    "for file in raw_files:\n",
    "\n",
    "    features = compute_features(file, skip_weekends=True)\n",
    "\n",
    "    filename = f\"numpy_{file}.raw\"\n",
    "    print(f\"Dumping numpy {features.shape} table to {filename}...\", end=\" \")\n",
    "\n",
    "    pickle.dump(np.array(features), open(filename, \"wb\"))\n",
    "\n",
    "    print(\"Done.\", end=\"\\n\\n\")\n",
    "\n",
    "# df_backup = df.copy()"
   ]
  },
  {
   "cell_type": "code",
   "execution_count": null,
   "metadata": {},
   "outputs": [],
   "source": []
  }
 ],
 "metadata": {
  "kernelspec": {
   "display_name": "Python 3",
   "language": "python",
   "name": "python3"
  },
  "language_info": {
   "codemirror_mode": {
    "name": "ipython",
    "version": 3
   },
   "file_extension": ".py",
   "mimetype": "text/x-python",
   "name": "python",
   "nbconvert_exporter": "python",
   "pygments_lexer": "ipython3",
   "version": "3.6.5"
  }
 },
 "nbformat": 4,
 "nbformat_minor": 2
}
