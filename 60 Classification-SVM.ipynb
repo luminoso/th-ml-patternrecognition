{
 "cells": [
  {
   "cell_type": "code",
   "execution_count": 23,
   "metadata": {},
   "outputs": [],
   "source": [
    "import aux_tools\n",
    "from aux_tools import save_fig"
   ]
  },
  {
   "cell_type": "code",
   "execution_count": 2,
   "metadata": {},
   "outputs": [],
   "source": [
    "# Load serialized dataframe\n",
    "\n",
    "import pickle\n",
    "import pandas as pd\n",
    "\n",
    "# [86400, 21600, 7200, 3600, 900]\n",
    "\n",
    "file = \"df_900_0.3_v3.raw\"\n",
    "\n",
    "df = pickle.load(open(file, 'rb'))  # type: pd.DataFrame\n",
    "\n",
    "#encode window\n",
    "df['relative_day_position'] = df['relative_day_position'].apply(lambda x: int((x*24)/285)  )\n",
    "\n",
    "#remove zeros\n",
    "df = df[df['packet_count:mean'] != 0]"
   ]
  },
  {
   "cell_type": "code",
   "execution_count": 4,
   "metadata": {},
   "outputs": [],
   "source": [
    "# Pipeline"
   ]
  },
  {
   "cell_type": "code",
   "execution_count": 14,
   "metadata": {},
   "outputs": [],
   "source": [
    "from sklearn.pipeline import Pipeline\n",
    "from sklearn.preprocessing import StandardScaler\n",
    "from sklearn.preprocessing import RobustScaler\n",
    "\n",
    "num_attribs = list(df.drop(\"entity\", axis=1))  # numerical attributes\n",
    "\n",
    "# numerical and categorical pipelines\n",
    "num_pipeline = Pipeline([\n",
    "    #('imputer', Imputer(strategy=\"median\")),\n",
    "    #('attribs_adder', CombinedAttributesAdder()),\n",
    "    ('selector', aux_tools.DataFrameSelector(num_attribs)),\n",
    "    ('std_scaler', StandardScaler()),\n",
    "    #('robust_scaler', RobustScaler()),\n",
    "])\n",
    "\n",
    "sliding_window_pipeline = Pipeline([\n",
    "    ('selector', aux_tools.DataFrameSelector('relative_day_position')),\n",
    "    ('revel', aux_tools.DataFrameRevel()),\n",
    "    ('cat_encoder', aux_tools.CategoricalEncoder(encoding=\"onehot-dense\")),\n",
    "])\n"
   ]
  },
  {
   "cell_type": "code",
   "execution_count": 15,
   "metadata": {},
   "outputs": [],
   "source": [
    "from sklearn.pipeline import FeatureUnion\n",
    "\n",
    "full_pipeline = FeatureUnion(transformer_list=[\n",
    "    (\"num_pipeline\", num_pipeline),\n",
    "    (\"sliding_window_pipeline\", sliding_window_pipeline),\n",
    "])"
   ]
  },
  {
   "cell_type": "code",
   "execution_count": 16,
   "metadata": {},
   "outputs": [],
   "source": [
    "from sklearn.utils import shuffle\n",
    "\n",
    "df = shuffle(df)\n",
    "\n",
    "fulldata = full_pipeline.fit_transform(df)\n",
    "cat_encoder = aux_tools.CategoricalEncoder(encoding=\"ordinal\")\n",
    "fulldata_labels = df['entity'].values.reshape(-1, 1)\n",
    "fulldata_labels_ordinal = cat_encoder.fit_transform(fulldata_labels)"
   ]
  },
  {
   "cell_type": "code",
   "execution_count": null,
   "metadata": {},
   "outputs": [],
   "source": []
  },
  {
   "cell_type": "code",
   "execution_count": null,
   "metadata": {},
   "outputs": [],
   "source": []
  },
  {
   "cell_type": "code",
   "execution_count": 18,
   "metadata": {},
   "outputs": [
    {
     "name": "stdout",
     "output_type": "stream",
     "text": [
      "Accuracy: 0.98 (+/- 0.0043)\n"
     ]
    }
   ],
   "source": [
    "from sklearn import svm\n",
    "from sklearn.model_selection import cross_val_score\n",
    "\n",
    "svm_clf = svm.LinearSVC(C=1.0, \n",
    "                        class_weight=None,\n",
    "                        dual=True, \n",
    "                        fit_intercept=True,\n",
    "                        intercept_scaling=1,\n",
    "                        loss='hinge',\n",
    "                        max_iter=5000,\n",
    "                        multi_class='ovr',\n",
    "                        penalty='l2',\n",
    "                        random_state=None,\n",
    "                        tol=0.0001,\n",
    "                        verbose=0)\n",
    "\n",
    "\n",
    "scores = cross_val_score(svm_clf,\n",
    "                         fulldata,\n",
    "                         fulldata_labels_ordinal.ravel()\n",
    "                         #scoring='accuracy'\n",
    "                        )\n",
    "\n",
    "print(\"Accuracy: %0.2f (+/- %0.4f)\" % (scores.mean(), scores.std() * 2))"
   ]
  },
  {
   "cell_type": "code",
   "execution_count": null,
   "metadata": {},
   "outputs": [],
   "source": []
  },
  {
   "cell_type": "code",
   "execution_count": 27,
   "metadata": {},
   "outputs": [],
   "source": [
    "import os\n",
    "def save_fig(fig_id, tight_layout=True, fig_extension=\"pdf\", resolution=300):\n",
    "    path = os.path.join(os.getcwd(), fig_id + \".\" + fig_extension)\n",
    "    print(f\"Saving figure {fig_id} to {path}\")\n",
    "    if tight_layout:\n",
    "        plt.tight_layout()\n",
    "    plt.savefig(path, format=fig_extension, dpi=resolution)"
   ]
  },
  {
   "cell_type": "code",
   "execution_count": 28,
   "metadata": {},
   "outputs": [
    {
     "name": "stdout",
     "output_type": "stream",
     "text": [
      "Automatically created module for IPython interactive environment\n",
      "Normalized confusion matrix\n",
      "[[9.99e-01 0.00e+00 3.36e-04 0.00e+00 2.24e-04 0.00e+00]\n",
      " [0.00e+00 9.95e-01 3.65e-03 7.06e-04 2.35e-04 4.71e-04]\n",
      " [1.58e-03 1.56e-02 9.68e-01 7.38e-03 4.48e-03 2.90e-03]\n",
      " [0.00e+00 0.00e+00 0.00e+00 9.59e-01 4.09e-02 0.00e+00]\n",
      " [0.00e+00 0.00e+00 0.00e+00 5.13e-02 9.49e-01 1.57e-04]\n",
      " [3.35e-04 3.01e-03 2.68e-03 6.70e-04 6.70e-04 9.93e-01]]\n",
      "Saving figure conf_mat to /home/luminoso/thesis/gjc-ml-2018abr_final/conf_mat.pdf\n",
      "Normalized confusion matrix\n",
      "[[0.   0.   0.6  0.   0.4  0.  ]\n",
      " [0.   0.   0.72 0.14 0.05 0.09]\n",
      " [0.05 0.49 0.   0.23 0.14 0.09]\n",
      " [0.   0.   0.   0.   1.   0.  ]\n",
      " [0.   0.   0.   1.   0.   0.  ]\n",
      " [0.05 0.41 0.36 0.09 0.09 0.  ]]\n",
      "Saving figure conf_mat_errors to /home/luminoso/thesis/gjc-ml-2018abr_final/conf_mat_errors.pdf\n"
     ]
    },
    {
     "data": {
      "image/png": "[encoded data removed]",
      "text/plain": [
       "<matplotlib.figure.Figure at 0x7fcbd4ecff28>"
      ]
     },
     "metadata": {},
     "output_type": "display_data"
    },
    {
     "data": {
      "image/png": "[encoded data removed]",
      "text/plain": [
       "<matplotlib.figure.Figure at 0x7fcbd4a995f8>"
      ]
     },
     "metadata": {},
     "output_type": "display_data"
    }
   ],
   "source": [
    "print(__doc__)\n",
    "\n",
    "import itertools\n",
    "import numpy as np\n",
    "import matplotlib.pyplot as plt\n",
    "\n",
    "from sklearn import svm, datasets\n",
    "from sklearn.model_selection import train_test_split\n",
    "from sklearn.metrics import confusion_matrix\n",
    "from sklearn.model_selection import cross_val_predict\n",
    "\n",
    "\n",
    "def plot_confusion_matrix(cm, classes,\n",
    "                          normalize=False,\n",
    "                          title='Confusion matrix',\n",
    "                          cmap=plt.cm.Blues):\n",
    "    \"\"\"\n",
    "    This function prints and plots the confusion matrix.\n",
    "    Normalization can be applied by setting `normalize=True`.\n",
    "    \"\"\"\n",
    "    if normalize:\n",
    "        cm = cm.astype('float') / cm.sum(axis=1)[:, np.newaxis]\n",
    "        print(\"Normalized confusion matrix\")\n",
    "    else:\n",
    "        print('Confusion matrix, without normalization')\n",
    "\n",
    "    print(cm)\n",
    "\n",
    "    plt.imshow(cm, interpolation='nearest', cmap=cmap)\n",
    "    plt.title(title)\n",
    "    plt.colorbar()\n",
    "    tick_marks = np.arange(len(classes))\n",
    "    plt.xticks(tick_marks, classes, rotation=45)\n",
    "    plt.yticks(tick_marks, classes)\n",
    "\n",
    "    fmt = '.2f' if normalize else 'd'\n",
    "    thresh = cm.max() / 2.\n",
    "    for i, j in itertools.product(range(cm.shape[0]), range(cm.shape[1])):\n",
    "        plt.text(j, i, format(cm[i, j], fmt),\n",
    "                 horizontalalignment=\"center\",\n",
    "                 color=\"white\" if cm[i, j] > thresh else \"black\")\n",
    "\n",
    "    plt.tight_layout()\n",
    "    plt.ylabel('True label')\n",
    "    plt.xlabel('Predicted label')\n",
    "    \n",
    "\n",
    "X = fulldata\n",
    "y = fulldata_labels_ordinal.ravel()\n",
    "\n",
    "\n",
    "class_names = [aux_tools.labnames[x] for x in list(cat_encoder.categories_[0])]\n",
    "\n",
    "\n",
    "# Split the data into a training set and a test set\n",
    "X_train, X_test, y_train, y_test = train_test_split(X, y, random_state=0)\n",
    "\n",
    "# Run classifier, using a model that is too regularized (C too low) to see\n",
    "# the impact on the results\n",
    "classifier = svm.LinearSVC(loss='hinge', max_iter=5000, C=1)\n",
    "classifier.fit(X, y)\n",
    "\n",
    "y_pred = cross_val_predict(classifier, X, y, cv=3)\n",
    "\n",
    "# Compute confusion matrix\n",
    "cnf_matrix = confusion_matrix(y, y_pred)\n",
    "np.set_printoptions(precision=2)\n",
    "\n",
    "# Plot non-normalized confusion matrix\n",
    "#plt.figure()\n",
    "#plot_confusion_matrix(cnf_matrix, classes=class_names,\n",
    "#                      title='Confusion matrix, without normalization')\n",
    "\n",
    "# Plot normalized confusion matrix\n",
    "plt.figure()\n",
    "plot_confusion_matrix(cnf_matrix, classes=class_names, normalize=True,\n",
    "                      title='Normalized confusion matrix')\n",
    "\n",
    "save_fig('conf_mat')\n",
    "\n",
    "\n",
    "plt.figure()\n",
    "\n",
    "row_sums = cnf_matrix.sum(axis=1, keepdims=True)\n",
    "norm_conf_mx = cnf_matrix / row_sums\n",
    "np.fill_diagonal(norm_conf_mx, 0)\n",
    "\n",
    "plot_confusion_matrix(norm_conf_mx, classes=class_names, normalize=True,\n",
    "                      title='Normalized confusion errors')\n",
    "\n",
    "save_fig('conf_mat_errors')\n",
    "\n",
    "plt.show()"
   ]
  },
  {
   "cell_type": "code",
   "execution_count": null,
   "metadata": {},
   "outputs": [],
   "source": []
  },
  {
   "cell_type": "code",
   "execution_count": 29,
   "metadata": {},
   "outputs": [
    {
     "data": {
      "text/plain": [
       "PCA(copy=True, iterated_power='auto', n_components=None, random_state=None,\n",
       "  svd_solver='auto', tol=0.0, whiten=False)"
      ]
     },
     "execution_count": 29,
     "metadata": {},
     "output_type": "execute_result"
    }
   ],
   "source": [
    "from sklearn.decomposition import PCA\n",
    "pca = PCA()\n",
    "pca.fit(fulldata)"
   ]
  },
  {
   "cell_type": "code",
   "execution_count": 30,
   "metadata": {},
   "outputs": [
    {
     "name": "stdout",
     "output_type": "stream",
     "text": [
      "Saving figure pca_variance_095 to /home/luminoso/thesis/gjc-ml-2018abr_final/pca_variance_095.pdf\n"
     ]
    },
    {
     "data": {
      "image/png": "[encoded data removed]",
      "text/plain": [
       "<matplotlib.figure.Figure at 0x7fcbd4cab7b8>"
      ]
     },
     "metadata": {},
     "output_type": "display_data"
    }
   ],
   "source": [
    "import scikitplot as skplt\n",
    "\n",
    "skplt.decomposition.plot_pca_component_variance(pca,target_explained_variance=0.95)\n",
    "save_fig('pca_variance_095')\n",
    "plt.show()\n"
   ]
  },
  {
   "cell_type": "code",
   "execution_count": null,
   "metadata": {},
   "outputs": [],
   "source": []
  },
  {
   "cell_type": "code",
   "execution_count": null,
   "metadata": {},
   "outputs": [],
   "source": []
  },
  {
   "cell_type": "code",
   "execution_count": null,
   "metadata": {},
   "outputs": [],
   "source": []
  },
  {
   "cell_type": "code",
   "execution_count": null,
   "metadata": {},
   "outputs": [],
   "source": []
  },
  {
   "cell_type": "code",
   "execution_count": null,
   "metadata": {},
   "outputs": [],
   "source": []
  },
  {
   "cell_type": "code",
   "execution_count": null,
   "metadata": {},
   "outputs": [],
   "source": []
  },
  {
   "cell_type": "code",
   "execution_count": null,
   "metadata": {},
   "outputs": [],
   "source": []
  },
  {
   "cell_type": "code",
   "execution_count": 19,
   "metadata": {},
   "outputs": [],
   "source": []
  },
  {
   "cell_type": "code",
   "execution_count": null,
   "metadata": {},
   "outputs": [],
   "source": []
  }
 ],
 "metadata": {
  "kernelspec": {
   "display_name": "Python 3",
   "language": "python",
   "name": "python3"
  },
  "language_info": {
   "codemirror_mode": {
    "name": "ipython",
    "version": 3
   },
   "file_extension": ".py",
   "mimetype": "text/x-python",
   "name": "python",
   "nbconvert_exporter": "python",
   "pygments_lexer": "ipython3",
   "version": "3.6.5"
  }
 },
 "nbformat": 4,
 "nbformat_minor": 2
}
