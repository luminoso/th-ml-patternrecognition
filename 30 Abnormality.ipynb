{
 "cells": [
  {
   "cell_type": "code",
   "execution_count": 17,
   "metadata": {},
   "outputs": [],
   "source": [
    "import aux_tools\n",
    "import os\n",
    "%matplotlib inline\n",
    "import matplotlib.pyplot as plt\n",
    "\n",
    "def save_fig(fig_id, tight_layout=True, fig_extension=\"pdf\", resolution=300):\n",
    "    path = os.path.join(os.getcwd(), fig_id + \".\" + fig_extension)\n",
    "    print(f\"Saving figure {fig_id} to {path}\")\n",
    "    if tight_layout:\n",
    "        plt.tight_layout()\n",
    "    plt.savefig(path, format=fig_extension, dpi=resolution)"
   ]
  },
  {
   "cell_type": "code",
   "execution_count": null,
   "metadata": {},
   "outputs": [],
   "source": []
  },
  {
   "cell_type": "code",
   "execution_count": 29,
   "metadata": {},
   "outputs": [],
   "source": [
    "# Load serialized dataframe\n",
    "\n",
    "import pickle\n",
    "import pandas as pd\n",
    "\n",
    "# [86400, 21600, 7200, 3600, 900]\n",
    "\n",
    "file = \"df_900_0.3_v3.raw\"\n",
    "\n",
    "df = pickle.load(open(file, 'rb'))  # type: pd.DataFrame\n",
    "\n",
    "#encode window\n",
    "df['relative_day_position'] = df['relative_day_position'].apply(lambda x: int((x*24)/285)  )\n",
    "\n",
    "#remove zeros\n",
    "df = df[df['packet_count:mean'] != 0]"
   ]
  },
  {
   "cell_type": "code",
   "execution_count": 30,
   "metadata": {},
   "outputs": [],
   "source": [
    "# Pipelined"
   ]
  },
  {
   "cell_type": "code",
   "execution_count": 31,
   "metadata": {},
   "outputs": [],
   "source": [
    "from sklearn.pipeline import Pipeline\n",
    "from sklearn.preprocessing import StandardScaler\n",
    "from sklearn.preprocessing import RobustScaler\n",
    "\n",
    "num_attribs = list(df.drop(\"entity\", axis=1))  # numerical attributes\n",
    "\n",
    "# numerical and categorical pipelines\n",
    "num_pipeline = Pipeline([\n",
    "    #('imputer', Imputer(strategy=\"median\")),\n",
    "    #('attribs_adder', CombinedAttributesAdder()),\n",
    "    ('selector', aux_tools.DataFrameSelector(num_attribs)),\n",
    "    ('std_scaler', StandardScaler()),\n",
    "    #('robust_scaler', RobustScaler()),\n",
    "])\n",
    "\n",
    "sliding_window_pipeline = Pipeline([\n",
    "    ('selector', aux_tools.DataFrameSelector('relative_day_position')),\n",
    "    ('revel', aux_tools.DataFrameRevel()),\n",
    "    ('cat_encoder', aux_tools.CategoricalEncoder(encoding=\"onehot-dense\")),\n",
    "])\n"
   ]
  },
  {
   "cell_type": "code",
   "execution_count": 32,
   "metadata": {},
   "outputs": [],
   "source": [
    "from sklearn.pipeline import FeatureUnion\n",
    "\n",
    "full_pipeline = FeatureUnion(transformer_list=[\n",
    "    (\"num_pipeline\", num_pipeline),\n",
    "    (\"sliding_window_pipeline\", sliding_window_pipeline),\n",
    "])"
   ]
  },
  {
   "cell_type": "code",
   "execution_count": 33,
   "metadata": {},
   "outputs": [],
   "source": [
    "from sklearn.utils import shuffle\n",
    "\n",
    "df = shuffle(df)\n",
    "\n",
    "fulldata = full_pipeline.fit_transform(df)\n",
    "cat_encoder = aux_tools.CategoricalEncoder(encoding=\"onehot-dense\")\n",
    "fulldata_labels = df['entity'].values.reshape(-1, 1)\n",
    "fulldata_labels_dense= cat_encoder.fit_transform(fulldata_labels)"
   ]
  },
  {
   "cell_type": "code",
   "execution_count": 34,
   "metadata": {},
   "outputs": [
    {
     "data": {
      "text/plain": [
       "[array(['np_freebsd.raw', 'np_nuc.raw', 'np_tohiba.raw', 'np_ubuntu.raw',\n",
       "        'np_windows10x86.raw', 'np_x58pc.raw'], dtype=object)]"
      ]
     },
     "execution_count": 34,
     "metadata": {},
     "output_type": "execute_result"
    }
   ],
   "source": [
    "cat_encoder.categories_"
   ]
  },
  {
   "cell_type": "code",
   "execution_count": 35,
   "metadata": {},
   "outputs": [
    {
     "data": {
      "text/plain": [
       "array([[0., 0., 0., 0., 1., 0.],\n",
       "       [0., 1., 0., 0., 0., 0.],\n",
       "       [0., 0., 1., 0., 0., 0.],\n",
       "       ...,\n",
       "       [0., 0., 0., 0., 0., 1.],\n",
       "       [0., 0., 0., 0., 1., 0.],\n",
       "       [0., 0., 0., 0., 0., 1.]])"
      ]
     },
     "execution_count": 35,
     "metadata": {},
     "output_type": "execute_result"
    }
   ],
   "source": [
    "fulldata_labels_dense"
   ]
  },
  {
   "cell_type": "code",
   "execution_count": null,
   "metadata": {},
   "outputs": [],
   "source": []
  },
  {
   "cell_type": "code",
   "execution_count": null,
   "metadata": {},
   "outputs": [],
   "source": []
  },
  {
   "cell_type": "code",
   "execution_count": null,
   "metadata": {},
   "outputs": [],
   "source": []
  },
  {
   "cell_type": "code",
   "execution_count": null,
   "metadata": {},
   "outputs": [],
   "source": []
  },
  {
   "cell_type": "code",
   "execution_count": null,
   "metadata": {},
   "outputs": [],
   "source": []
  },
  {
   "cell_type": "code",
   "execution_count": null,
   "metadata": {},
   "outputs": [],
   "source": []
  },
  {
   "cell_type": "code",
   "execution_count": null,
   "metadata": {},
   "outputs": [],
   "source": []
  },
  {
   "cell_type": "code",
   "execution_count": null,
   "metadata": {},
   "outputs": [],
   "source": []
  },
  {
   "cell_type": "code",
   "execution_count": 9,
   "metadata": {},
   "outputs": [],
   "source": [
    "from sklearn.decomposition import PCA\n",
    "\n",
    "pca = PCA(n_components=2)\n",
    "pca.fit(fulldata)\n",
    "\n",
    "fulldata = pca.transform(fulldata)"
   ]
  },
  {
   "cell_type": "code",
   "execution_count": 10,
   "metadata": {},
   "outputs": [
    {
     "name": "stdout",
     "output_type": "stream",
     "text": [
      "np_freebsd.raw\n",
      "Accuracy svm svc: 0.94 (+/- 0.4658)\n",
      "Accuracy svm_linear: 0.92 (+/- 0.9798)\n",
      "Accuracy svr: 0.71 (+/- 3.2061)\n",
      "Accuracy dtree: 0.92 (+/- 0.4736)\n",
      "Accuracy dtreerg: 0.54 (+/- 3.4213)\n",
      "Accuracy near: 0.94 (+/- 0.0278)\n",
      "Accuracy neural: 0.93 (+/- 2.5020)\n",
      "Accuracy randomforest: 0.94 (+/- 0.6303)\n",
      "Accuracy adaboost: 0.94 (+/- 0.8723)\n",
      "Accuracy gaussianNB: 0.89 (+/- 0.4832)\n",
      "Accuracy quadratic: 0.89 (+/- 0.1114)\n",
      "\n",
      "np_nuc.raw\n",
      "Accuracy svm svc: 0.89 (+/- 1.2648)\n",
      "Accuracy svm_linear: 0.78 (+/- 0.0404)\n",
      "Accuracy svr: 0.49 (+/- 5.4166)\n",
      "Accuracy dtree: 0.86 (+/- 2.0416)\n",
      "Accuracy dtreerg: 0.15 (+/- 13.9688)\n",
      "Accuracy near: 0.88 (+/- 0.8271)\n",
      "Accuracy neural: 0.87 (+/- 1.8329)\n",
      "Accuracy randomforest: 0.88 (+/- 1.3022)\n",
      "Accuracy adaboost: 0.88 (+/- 1.9026)\n",
      "Accuracy gaussianNB: 0.81 (+/- 1.6937)\n",
      "Accuracy quadratic: 0.80 (+/- 0.3505)\n",
      "\n",
      "np_tohiba.raw\n",
      "Accuracy svm svc: 0.94 (+/- 0.6869)\n",
      "Accuracy svm_linear: 0.90 (+/- 0.0774)\n",
      "Accuracy svr: 0.43 (+/- 4.1455)\n",
      "Accuracy dtree: 0.92 (+/- 0.5479)\n",
      "Accuracy dtreerg: 0.11 (+/- 6.5394)\n",
      "Accuracy near: 0.93 (+/- 0.3773)\n",
      "Accuracy neural: 0.94 (+/- 0.8154)\n",
      "Accuracy randomforest: 0.93 (+/- 0.7093)\n",
      "Accuracy adaboost: 0.92 (+/- 1.1983)\n",
      "Accuracy gaussianNB: 0.91 (+/- 0.3586)\n",
      "Accuracy quadratic: 0.92 (+/- 0.4942)\n",
      "\n",
      "np_ubuntu.raw\n",
      "Accuracy svm svc: 0.96 (+/- 0.2682)\n",
      "Accuracy svm_linear: 0.96 (+/- 0.2612)\n",
      "Accuracy svr: 0.76 (+/- 1.3728)\n",
      "Accuracy dtree: 0.94 (+/- 0.6236)\n",
      "Accuracy dtreerg: 0.66 (+/- 2.4548)\n",
      "Accuracy near: 0.96 (+/- 0.4826)\n",
      "Accuracy neural: 0.96 (+/- 0.3742)\n",
      "Accuracy randomforest: 0.95 (+/- 0.5901)\n",
      "Accuracy adaboost: 0.95 (+/- 0.6207)\n",
      "Accuracy gaussianNB: 0.89 (+/- 0.5364)\n",
      "Accuracy quadratic: 0.95 (+/- 0.7177)\n",
      "\n",
      "np_windows10x86.raw\n",
      "Accuracy svm svc: 0.93 (+/- 0.0799)\n",
      "Accuracy svm_linear: 0.84 (+/- 0.0552)\n",
      "Accuracy svr: 0.57 (+/- 1.0746)\n",
      "Accuracy dtree: 0.91 (+/- 0.6801)\n",
      "Accuracy dtreerg: 0.33 (+/- 6.4951)\n",
      "Accuracy near: 0.93 (+/- 0.3338)\n",
      "Accuracy neural: 0.92 (+/- 0.3967)\n",
      "Accuracy randomforest: 0.92 (+/- 1.0492)\n",
      "Accuracy adaboost: 0.92 (+/- 0.7997)\n",
      "Accuracy gaussianNB: 0.83 (+/- 0.5295)\n",
      "Accuracy quadratic: 0.83 (+/- 3.3905)\n",
      "\n",
      "np_x58pc.raw\n",
      "Accuracy svm svc: 0.92 (+/- 0.7255)\n",
      "Accuracy svm_linear: 0.92 (+/- 0.0024)\n",
      "Accuracy svr: 0.13 (+/- 4.4748)\n",
      "Accuracy dtree: 0.89 (+/- 0.6869)\n",
      "Accuracy dtreerg: -0.38 (+/- 4.7204)\n",
      "Accuracy near: 0.92 (+/- 0.5926)\n",
      "Accuracy neural: 0.92 (+/- 0.4647)\n",
      "Accuracy randomforest: 0.91 (+/- 0.3005)\n",
      "Accuracy adaboost: 0.91 (+/- 0.2820)\n",
      "Accuracy gaussianNB: 0.92 (+/- 0.0024)\n",
      "Accuracy quadratic: 0.92 (+/- 0.0024)\n",
      "\n"
     ]
    }
   ],
   "source": [
    "from sklearn import svm\n",
    "from sklearn.discriminant_analysis import QuadraticDiscriminantAnalysis\n",
    "from sklearn.ensemble import RandomForestClassifier, AdaBoostClassifier\n",
    "from sklearn.gaussian_process import GaussianProcessClassifier\n",
    "from sklearn.gaussian_process.kernels import RBF\n",
    "from sklearn.model_selection import cross_val_score\n",
    "from sklearn.naive_bayes import GaussianNB\n",
    "from sklearn.neighbors import KNeighborsClassifier\n",
    "from sklearn.neural_network import MLPClassifier\n",
    "from sklearn.tree import DecisionTreeClassifier\n",
    "from sklearn.tree import DecisionTreeRegressor\n",
    "\n",
    "\n",
    "algos =[ (svm.SVC(),'svm svc'), # C-Support Vector Classification.\n",
    "         (svm.LinearSVC(), 'svm_linear'), # Linear Support Vector Classification.\n",
    "         #(svm.NuSVC(), 'nusvc'), # Nu-Support Vector Classification.\n",
    "         #(svm.NuSVR(), 'nusvr'), # Nu Support Vector Regression.\n",
    "         (svm.SVR(),'svr'), # Epsilon-Support Vector Regression.\n",
    "         (DecisionTreeClassifier(),'dtree'), # Decision Tree Classifier\n",
    "         (DecisionTreeRegressor(),'dtreerg'), # Decision Trees Regressor\n",
    "         (KNeighborsClassifier(),'near'), # K-nearest neighbors\n",
    "         (MLPClassifier(solver='adam', # Multi-layer Perceptron classifier\n",
    "                           alpha=1e-5,\n",
    "                           hidden_layer_sizes=(5, 2),\n",
    "                           #random_state=1,\n",
    "                           max_iter=10000,\n",
    "                           learning_rate='adaptive'),'neural'),\n",
    "        #(GaussianProcessClassifier(1.0 * RBF(1.0)),'gaussian'),\n",
    "        (RandomForestClassifier(),'randomforest'), # Random Forest Classifier\n",
    "        (AdaBoostClassifier(),'adaboost'), # AdaBoost Classifier\n",
    "        (GaussianNB(),'gaussianNB'), # Gaussian Naive Bayes (GaussianNB)\n",
    "        (QuadraticDiscriminantAnalysis(),'quadratic') # Quadratic Discriminant Analysis\n",
    "]\n",
    "\n",
    "for i in range(0,fulldata_labels_dense.shape[1]):\n",
    "    print(cat_encoder.categories_[0][i])                   \n",
    "    \n",
    "    for al in algos:\n",
    "        \n",
    "        classifier, name = al\n",
    "    \n",
    "        scores = cross_val_score(classifier,\n",
    "                                 fulldata,\n",
    "                                 fulldata_labels_dense[:,i],\n",
    "                                 n_jobs=-1,\n",
    "                                 cv=3,\n",
    "                                 verbose=False\n",
    "                                 #scoring='accuracy'\n",
    "                                )\n",
    "\n",
    "        print(\"Accuracy %s: %0.2f (+/- %0.4f)\" % (name, scores.mean(), scores.std() * 2 * 100))\n",
    "    print(\"\")"
   ]
  },
  {
   "cell_type": "code",
   "execution_count": 11,
   "metadata": {},
   "outputs": [],
   "source": [
    "LAB=4"
   ]
  },
  {
   "cell_type": "code",
   "execution_count": 18,
   "metadata": {},
   "outputs": [
    {
     "name": "stdout",
     "output_type": "stream",
     "text": [
      "Saving figure roc_linear_lab4 to /home/luminoso/thesis/gjc-ml-2018abr_final/roc_linear_lab4.pdf\n"
     ]
    },
    {
     "data": {
      "image/png": "[encoded data removed]",
      "text/plain": [
       "<matplotlib.figure.Figure at 0x7f148b974c18>"
      ]
     },
     "metadata": {},
     "output_type": "display_data"
    }
   ],
   "source": [
    "import scikitplot as skplt\n",
    "from sklearn.model_selection import train_test_split\n",
    "from sklearn.calibration import CalibratedClassifierCV\n",
    "\n",
    "X_train, X_test, y_train, y_test = train_test_split(fulldata,\n",
    "                                                    fulldata_labels_dense[:,LAB].ravel(), \n",
    "                                                    test_size=0.33,\n",
    "                                                    random_state=42)\n",
    "\n",
    "nb = svm.LinearSVC()\n",
    "clf = CalibratedClassifierCV(nb)\n",
    "\n",
    "\n",
    "clf.fit(X_train, y_train)\n",
    "\n",
    "y_probas = clf.predict_proba(X_test)\n",
    "#ax = skplt.metrics.plot_precision_recall_curve(y_test, y_probas)\n",
    "skplt.metrics.plot_roc_curve(y_test, y_probas)\n",
    "#ax.set_xlim(left=0., right=0.5)\n",
    "\n",
    "save_fig('roc_linear_lab4')\n",
    "\n",
    "#plt.show()\n",
    "\n"
   ]
  },
  {
   "cell_type": "code",
   "execution_count": 19,
   "metadata": {},
   "outputs": [
    {
     "name": "stdout",
     "output_type": "stream",
     "text": [
      "Saving figure roc_nn_lab4 to /home/luminoso/thesis/gjc-ml-2018abr_final/roc_nn_lab4.pdf\n"
     ]
    },
    {
     "data": {
      "image/png": "[encoded data removed]",
      "text/plain": [
       "<matplotlib.figure.Figure at 0x7f148b745e48>"
      ]
     },
     "metadata": {},
     "output_type": "display_data"
    }
   ],
   "source": [
    "import scikitplot as skplt\n",
    "from sklearn.model_selection import train_test_split\n",
    "from sklearn.calibration import CalibratedClassifierCV\n",
    "from sklearn.neural_network import MLPClassifier\n",
    "\n",
    "X_train, X_test, y_train, y_test = train_test_split(fulldata,\n",
    "                                                    fulldata_labels_dense[:,LAB].ravel(), \n",
    "                                                    test_size=0.33,\n",
    "                                                    random_state=42)\n",
    "\n",
    "nb = MLPClassifier(solver='lbfgs', alpha=1e-5, hidden_layer_sizes=(15,), random_state=42)\n",
    "\n",
    "clf = CalibratedClassifierCV(nb)\n",
    "\n",
    "\n",
    "clf.fit(X_train, y_train)\n",
    "\n",
    "y_probas = clf.predict_proba(X_test)\n",
    "#ax = skplt.metrics.plot_precision_recall_curve(y_test, y_probas)\n",
    "ax = skplt.metrics.plot_roc_curve(y_test, y_probas)\n",
    "#ax.set_xlim(left=0.0, right=0.5)\n",
    "\n",
    "save_fig('roc_nn_lab4')\n",
    "\n",
    "\n",
    "#ax.show()"
   ]
  },
  {
   "cell_type": "code",
   "execution_count": null,
   "metadata": {},
   "outputs": [],
   "source": []
  },
  {
   "cell_type": "code",
   "execution_count": 20,
   "metadata": {},
   "outputs": [
    {
     "name": "stdout",
     "output_type": "stream",
     "text": [
      "Saving figure roc_ada_lab4 to /home/luminoso/thesis/gjc-ml-2018abr_final/roc_ada_lab4.pdf\n"
     ]
    },
    {
     "data": {
      "image/png": "[encoded data removed]",
      "text/plain": [
       "<matplotlib.figure.Figure at 0x7f148bb8e128>"
      ]
     },
     "metadata": {},
     "output_type": "display_data"
    }
   ],
   "source": [
    "import scikitplot as skplt\n",
    "from sklearn.model_selection import train_test_split\n",
    "from sklearn.calibration import CalibratedClassifierCV\n",
    "from sklearn.neural_network import MLPClassifier\n",
    "\n",
    "X_train, X_test, y_train, y_test = train_test_split(fulldata,\n",
    "                                                    fulldata_labels_dense[:,LAB].ravel(), \n",
    "                                                    test_size=0.33,\n",
    "                                                    random_state=42)\n",
    "\n",
    "nb = AdaBoostClassifier(random_state=42,\n",
    "                           base_estimator=svm.LinearSVC(),\n",
    "                           algorithm='SAMME')\n",
    "\n",
    "clf = CalibratedClassifierCV(nb)\n",
    "\n",
    "\n",
    "clf.fit(X_train, y_train)\n",
    "\n",
    "y_probas = clf.predict_proba(X_test)\n",
    "#ax = skplt.metrics.plot_precision_recall_curve(y_test, y_probas)\n",
    "ax = skplt.metrics.plot_roc_curve(y_test, y_probas)\n",
    "#ax.set_xlim(left=0.0, right=0.5)\n",
    "\n",
    "save_fig('roc_ada_lab4')\n",
    "\n",
    "\n",
    "#ax.show()"
   ]
  },
  {
   "cell_type": "code",
   "execution_count": null,
   "metadata": {},
   "outputs": [],
   "source": []
  },
  {
   "cell_type": "code",
   "execution_count": null,
   "metadata": {},
   "outputs": [],
   "source": []
  },
  {
   "cell_type": "code",
   "execution_count": null,
   "metadata": {},
   "outputs": [],
   "source": []
  },
  {
   "cell_type": "code",
   "execution_count": null,
   "metadata": {},
   "outputs": [],
   "source": []
  },
  {
   "cell_type": "code",
   "execution_count": null,
   "metadata": {},
   "outputs": [],
   "source": []
  },
  {
   "cell_type": "code",
   "execution_count": null,
   "metadata": {},
   "outputs": [],
   "source": []
  },
  {
   "cell_type": "code",
   "execution_count": null,
   "metadata": {},
   "outputs": [],
   "source": []
  },
  {
   "cell_type": "code",
   "execution_count": null,
   "metadata": {},
   "outputs": [],
   "source": []
  },
  {
   "cell_type": "code",
   "execution_count": null,
   "metadata": {},
   "outputs": [],
   "source": []
  },
  {
   "cell_type": "code",
   "execution_count": null,
   "metadata": {},
   "outputs": [],
   "source": []
  },
  {
   "cell_type": "code",
   "execution_count": null,
   "metadata": {},
   "outputs": [],
   "source": []
  },
  {
   "cell_type": "code",
   "execution_count": null,
   "metadata": {},
   "outputs": [],
   "source": []
  },
  {
   "cell_type": "code",
   "execution_count": null,
   "metadata": {},
   "outputs": [],
   "source": []
  },
  {
   "cell_type": "code",
   "execution_count": null,
   "metadata": {},
   "outputs": [],
   "source": []
  },
  {
   "cell_type": "code",
   "execution_count": null,
   "metadata": {},
   "outputs": [],
   "source": []
  },
  {
   "cell_type": "code",
   "execution_count": null,
   "metadata": {},
   "outputs": [],
   "source": []
  },
  {
   "cell_type": "code",
   "execution_count": null,
   "metadata": {},
   "outputs": [],
   "source": []
  },
  {
   "cell_type": "code",
   "execution_count": null,
   "metadata": {},
   "outputs": [],
   "source": []
  },
  {
   "cell_type": "code",
   "execution_count": null,
   "metadata": {},
   "outputs": [],
   "source": []
  },
  {
   "cell_type": "code",
   "execution_count": null,
   "metadata": {},
   "outputs": [],
   "source": []
  },
  {
   "cell_type": "code",
   "execution_count": null,
   "metadata": {},
   "outputs": [],
   "source": []
  },
  {
   "cell_type": "code",
   "execution_count": null,
   "metadata": {},
   "outputs": [],
   "source": []
  },
  {
   "cell_type": "code",
   "execution_count": null,
   "metadata": {},
   "outputs": [],
   "source": []
  },
  {
   "cell_type": "code",
   "execution_count": null,
   "metadata": {},
   "outputs": [],
   "source": []
  },
  {
   "cell_type": "code",
   "execution_count": null,
   "metadata": {},
   "outputs": [],
   "source": []
  },
  {
   "cell_type": "code",
   "execution_count": null,
   "metadata": {},
   "outputs": [],
   "source": []
  },
  {
   "cell_type": "code",
   "execution_count": null,
   "metadata": {},
   "outputs": [],
   "source": []
  },
  {
   "cell_type": "code",
   "execution_count": null,
   "metadata": {},
   "outputs": [],
   "source": []
  },
  {
   "cell_type": "code",
   "execution_count": null,
   "metadata": {},
   "outputs": [],
   "source": []
  },
  {
   "cell_type": "code",
   "execution_count": null,
   "metadata": {},
   "outputs": [],
   "source": []
  },
  {
   "cell_type": "code",
   "execution_count": null,
   "metadata": {},
   "outputs": [],
   "source": []
  },
  {
   "cell_type": "code",
   "execution_count": null,
   "metadata": {},
   "outputs": [],
   "source": []
  },
  {
   "cell_type": "code",
   "execution_count": null,
   "metadata": {},
   "outputs": [],
   "source": []
  },
  {
   "cell_type": "code",
   "execution_count": null,
   "metadata": {},
   "outputs": [],
   "source": []
  },
  {
   "cell_type": "code",
   "execution_count": null,
   "metadata": {},
   "outputs": [],
   "source": []
  },
  {
   "cell_type": "code",
   "execution_count": null,
   "metadata": {},
   "outputs": [],
   "source": []
  },
  {
   "cell_type": "code",
   "execution_count": null,
   "metadata": {},
   "outputs": [],
   "source": []
  },
  {
   "cell_type": "code",
   "execution_count": null,
   "metadata": {},
   "outputs": [],
   "source": []
  },
  {
   "cell_type": "code",
   "execution_count": null,
   "metadata": {},
   "outputs": [],
   "source": []
  },
  {
   "cell_type": "code",
   "execution_count": null,
   "metadata": {},
   "outputs": [],
   "source": []
  },
  {
   "cell_type": "code",
   "execution_count": null,
   "metadata": {},
   "outputs": [],
   "source": []
  },
  {
   "cell_type": "code",
   "execution_count": null,
   "metadata": {},
   "outputs": [],
   "source": []
  },
  {
   "cell_type": "code",
   "execution_count": null,
   "metadata": {},
   "outputs": [],
   "source": []
  },
  {
   "cell_type": "code",
   "execution_count": null,
   "metadata": {},
   "outputs": [],
   "source": []
  },
  {
   "cell_type": "code",
   "execution_count": null,
   "metadata": {},
   "outputs": [],
   "source": []
  },
  {
   "cell_type": "code",
   "execution_count": null,
   "metadata": {},
   "outputs": [],
   "source": [
    "from sklearn import svm\n",
    "from sklearn.model_selection import cross_val_score\n",
    "from sklearn.ensemble import AdaBoostClassifier\n",
    "from sklearn import svm\n",
    "\n",
    "ada_class = AdaBoostClassifier(random_state=42,\n",
    "                               base_estimator=svm.LinearSVC(),\n",
    "                               algorithm='SAMME')\n",
    "\n",
    "\n",
    "scores = cross_val_score(ada_class,\n",
    "                         fulldata,\n",
    "                         fulldata_labels_ordinal.ravel()\n",
    "                         #scoring='accuracy'\n",
    "                        )\n",
    "\n",
    "print(\"Accuracy: %0.2f (+/- %0.4f)\" % (scores.mean(), scores.std() * 2))"
   ]
  },
  {
   "cell_type": "code",
   "execution_count": null,
   "metadata": {},
   "outputs": [],
   "source": [
    "[aux_tools.labnames[x] for x in list(cat_encoder.categories_[0])]"
   ]
  },
  {
   "cell_type": "code",
   "execution_count": null,
   "metadata": {},
   "outputs": [],
   "source": []
  },
  {
   "cell_type": "code",
   "execution_count": null,
   "metadata": {},
   "outputs": [],
   "source": [
    "print(__doc__)\n",
    "\n",
    "import itertools\n",
    "import numpy as np\n",
    "import matplotlib.pyplot as plt\n",
    "\n",
    "from sklearn import svm, datasets\n",
    "from sklearn.model_selection import train_test_split\n",
    "from sklearn.metrics import confusion_matrix\n",
    "from sklearn.model_selection import cross_val_predict\n",
    "\n",
    "\n",
    "def plot_confusion_matrix(cm, classes,\n",
    "                          normalize=False,\n",
    "                          title='Confusion matrix',\n",
    "                          cmap=plt.cm.Blues):\n",
    "    \"\"\"\n",
    "    This function prints and plots the confusion matrix.\n",
    "    Normalization can be applied by setting `normalize=True`.\n",
    "    \"\"\"\n",
    "    if normalize:\n",
    "        cm = cm.astype('float') / cm.sum(axis=1)[:, np.newaxis]\n",
    "        print(\"Normalized confusion matrix\")\n",
    "    else:\n",
    "        print('Confusion matrix, without normalization')\n",
    "\n",
    "    print(cm)\n",
    "\n",
    "    plt.imshow(cm, interpolation='nearest', cmap=cmap)\n",
    "    plt.title(title)\n",
    "    plt.colorbar()\n",
    "    tick_marks = np.arange(len(classes))\n",
    "    plt.xticks(tick_marks, classes, rotation=45)\n",
    "    plt.yticks(tick_marks, classes)\n",
    "\n",
    "    fmt = '.2f' if normalize else 'd'\n",
    "    thresh = cm.max() / 2.\n",
    "    for i, j in itertools.product(range(cm.shape[0]), range(cm.shape[1])):\n",
    "        plt.text(j, i, format(cm[i, j], fmt),\n",
    "                 horizontalalignment=\"center\",\n",
    "                 color=\"white\" if cm[i, j] > thresh else \"black\")\n",
    "\n",
    "    plt.tight_layout()\n",
    "    plt.ylabel('True label')\n",
    "    plt.xlabel('Predicted label')\n",
    "    \n",
    "\n",
    "X = fulldata\n",
    "y = fulldata_labels_ordinal.ravel()\n",
    "\n",
    "class_names = [aux_tools.labnames[x] for x in list(cat_encoder.categories_[0])]\n",
    "\n",
    "\n",
    "# Split the data into a training set and a test set\n",
    "X_train, X_test, y_train, y_test = train_test_split(X, y, random_state=0)\n",
    "\n",
    "# Run classifier, using a model that is too regularized (C too low) to see\n",
    "# the impact on the results\n",
    "classifier = AdaBoostClassifier(random_state=42,\n",
    "                               base_estimator=svm.LinearSVC(),\n",
    "                               algorithm='SAMME',\n",
    "                               n_estimators=5)\n",
    "\n",
    "classifier.fit(X, y)\n",
    "\n",
    "y_pred = cross_val_predict(classifier, X, y, cv=3)\n",
    "\n",
    "# Compute confusion matrix\n",
    "cnf_matrix = confusion_matrix(y, y_pred)\n",
    "np.set_printoptions(precision=2)\n",
    "\n",
    "# Plot non-normalized confusion matrix\n",
    "#plt.figure()\n",
    "#plot_confusion_matrix(cnf_matrix, classes=class_names,\n",
    "#                      title='Confusion matrix, without normalization')\n",
    "\n",
    "# Plot normalized confusion matrix\n",
    "plt.figure()\n",
    "plot_confusion_matrix(cnf_matrix, classes=class_names, normalize=True,\n",
    "                      title='Normalized confusion matrix')\n",
    "\n",
    "save_fig('conf_mat_ada')\n",
    "\n",
    "\n",
    "plt.figure()\n",
    "\n",
    "row_sums = cnf_matrix.sum(axis=1, keepdims=True)\n",
    "norm_conf_mx = cnf_matrix / row_sums\n",
    "np.fill_diagonal(norm_conf_mx, 0)\n",
    "\n",
    "plot_confusion_matrix(norm_conf_mx, classes=class_names, normalize=True,\n",
    "                      title='Normalized confusion errors')\n",
    "\n",
    "save_fig('conf_mat_errors_ada')\n",
    "\n",
    "plt.show()"
   ]
  },
  {
   "cell_type": "code",
   "execution_count": null,
   "metadata": {},
   "outputs": [],
   "source": []
  },
  {
   "cell_type": "code",
   "execution_count": null,
   "metadata": {},
   "outputs": [],
   "source": [
    "from sklearn.ensemble import GradientBoostingClassifier\n",
    "\n"
   ]
  },
  {
   "cell_type": "code",
   "execution_count": null,
   "metadata": {},
   "outputs": [],
   "source": [
    "print(__doc__)\n",
    "\n",
    "import itertools\n",
    "import numpy as np\n",
    "import matplotlib.pyplot as plt\n",
    "\n",
    "from sklearn import svm, datasets\n",
    "from sklearn.model_selection import train_test_split\n",
    "from sklearn.metrics import confusion_matrix\n",
    "from sklearn.model_selection import cross_val_predict\n",
    "\n",
    "\n",
    "def plot_confusion_matrix(cm, classes,\n",
    "                          normalize=False,\n",
    "                          title='Confusion matrix',\n",
    "                          cmap=plt.cm.Blues):\n",
    "    \"\"\"\n",
    "    This function prints and plots the confusion matrix.\n",
    "    Normalization can be applied by setting `normalize=True`.\n",
    "    \"\"\"\n",
    "    if normalize:\n",
    "        cm = cm.astype('float') / cm.sum(axis=1)[:, np.newaxis]\n",
    "        print(\"Normalized confusion matrix\")\n",
    "    else:\n",
    "        print('Confusion matrix, without normalization')\n",
    "\n",
    "    print(cm)\n",
    "\n",
    "    plt.imshow(cm, interpolation='nearest', cmap=cmap)\n",
    "    plt.title(title)\n",
    "    plt.colorbar()\n",
    "    tick_marks = np.arange(len(classes))\n",
    "    plt.xticks(tick_marks, classes, rotation=45)\n",
    "    plt.yticks(tick_marks, classes)\n",
    "\n",
    "    fmt = '.2f' if normalize else 'd'\n",
    "    thresh = cm.max() / 2.\n",
    "    for i, j in itertools.product(range(cm.shape[0]), range(cm.shape[1])):\n",
    "        plt.text(j, i, format(cm[i, j], fmt),\n",
    "                 horizontalalignment=\"center\",\n",
    "                 color=\"white\" if cm[i, j] > thresh else \"black\")\n",
    "\n",
    "    plt.tight_layout()\n",
    "    plt.ylabel('True label')\n",
    "    plt.xlabel('Predicted label')\n",
    "    \n",
    "\n",
    "X = fulldata\n",
    "y = fulldata_labels_ordinal.ravel()\n",
    "\n",
    "class_names = [aux_tools.labnames[x] for x in list(cat_encoder.categories_[0])]\n",
    "\n",
    "\n",
    "# Split the data into a training set and a test set\n",
    "X_train, X_test, y_train, y_test = train_test_split(X, y, random_state=0)\n",
    "\n",
    "# Run classifier, using a model that is too regularized (C too low) to see\n",
    "# the impact on the results\n",
    "classifier = GradientBoostingClassifier(n_estimators=100, random_state=42)\n",
    "\n",
    "classifier.fit(X, y)\n",
    "\n",
    "y_pred = cross_val_predict(classifier, X, y, cv=3)\n",
    "\n",
    "# Compute confusion matrix\n",
    "cnf_matrix = confusion_matrix(y, y_pred)\n",
    "np.set_printoptions(precision=2)\n",
    "\n",
    "# Plot non-normalized confusion matrix\n",
    "#plt.figure()\n",
    "#plot_confusion_matrix(cnf_matrix, classes=class_names,\n",
    "#                      title='Confusion matrix, without normalization')\n",
    "\n",
    "# Plot normalized confusion matrix\n",
    "plt.figure()\n",
    "plot_confusion_matrix(cnf_matrix, classes=class_names, normalize=True,\n",
    "                      title='Normalized confusion matrix')\n",
    "\n",
    "save_fig('conf_mat_adaGD')\n",
    "\n",
    "\n",
    "plt.figure()\n",
    "\n",
    "row_sums = cnf_matrix.sum(axis=1, keepdims=True)\n",
    "norm_conf_mx = cnf_matrix / row_sums\n",
    "np.fill_diagonal(norm_conf_mx, 0)\n",
    "\n",
    "plot_confusion_matrix(norm_conf_mx, classes=class_names, normalize=True,\n",
    "                      title='Normalized confusion errors')\n",
    "\n",
    "save_fig('conf_mat_errors_adaGD')\n",
    "\n",
    "plt.show()"
   ]
  },
  {
   "cell_type": "code",
   "execution_count": null,
   "metadata": {},
   "outputs": [],
   "source": [
    "save_fig('conf_mat_adaGD')\n"
   ]
  },
  {
   "cell_type": "code",
   "execution_count": null,
   "metadata": {},
   "outputs": [],
   "source": [
    "ada_class = GradientBoostingClassifier(random_state=42)\n",
    "\n",
    "\n",
    "scores = cross_val_score(ada_class,\n",
    "                         fulldata,\n",
    "                         fulldata_labels_ordinal.ravel()\n",
    "                         #scoring='accuracy'\n",
    "                        )\n",
    "\n",
    "print(\"Accuracy: %0.2f (+/- %0.4f)\" % (scores.mean(), scores.std() * 2))"
   ]
  },
  {
   "cell_type": "code",
   "execution_count": null,
   "metadata": {},
   "outputs": [],
   "source": []
  },
  {
   "cell_type": "code",
   "execution_count": null,
   "metadata": {},
   "outputs": [],
   "source": []
  },
  {
   "cell_type": "code",
   "execution_count": null,
   "metadata": {},
   "outputs": [],
   "source": []
  },
  {
   "cell_type": "code",
   "execution_count": null,
   "metadata": {},
   "outputs": [],
   "source": []
  },
  {
   "cell_type": "code",
   "execution_count": null,
   "metadata": {},
   "outputs": [],
   "source": [
    "from sklearn.decomposition import PCA\n",
    "pca = PCA()\n",
    "pca.fit(fulldata)"
   ]
  },
  {
   "cell_type": "code",
   "execution_count": null,
   "metadata": {},
   "outputs": [],
   "source": [
    "import scikitplot as skplt\n",
    "\n",
    "skplt.decomposition.plot_pca_component_variance(pca,target_explained_variance=0.95)\n",
    "save_fig('pca_variance_095')\n",
    "plt.show()\n"
   ]
  },
  {
   "cell_type": "code",
   "execution_count": null,
   "metadata": {},
   "outputs": [],
   "source": []
  },
  {
   "cell_type": "code",
   "execution_count": null,
   "metadata": {},
   "outputs": [],
   "source": []
  },
  {
   "cell_type": "code",
   "execution_count": null,
   "metadata": {},
   "outputs": [],
   "source": [
    "\n"
   ]
  },
  {
   "cell_type": "code",
   "execution_count": null,
   "metadata": {},
   "outputs": [],
   "source": [
    "\n"
   ]
  },
  {
   "cell_type": "code",
   "execution_count": null,
   "metadata": {},
   "outputs": [],
   "source": []
  },
  {
   "cell_type": "code",
   "execution_count": null,
   "metadata": {},
   "outputs": [],
   "source": []
  },
  {
   "cell_type": "code",
   "execution_count": null,
   "metadata": {},
   "outputs": [],
   "source": [
    "# confusion matrix"
   ]
  },
  {
   "cell_type": "code",
   "execution_count": null,
   "metadata": {},
   "outputs": [],
   "source": []
  },
  {
   "cell_type": "code",
   "execution_count": null,
   "metadata": {},
   "outputs": [],
   "source": []
  },
  {
   "cell_type": "code",
   "execution_count": null,
   "metadata": {},
   "outputs": [],
   "source": [
    "# remove everything except the worse case"
   ]
  },
  {
   "cell_type": "code",
   "execution_count": null,
   "metadata": {},
   "outputs": [],
   "source": [
    "df_worsecase = df[df.entity != 'np_x58pc.raw']\n",
    "df_worsecase = df_worsecase[df_worsecase.entity != 'np_tohiba.raw']\n",
    "df_worsecase = df_worsecase[df_worsecase.entity != 'np_freebsd.raw'] \n",
    "df_worsecase = df_worsecase[df_worsecase.entity != 'np_nuc.raw'] "
   ]
  },
  {
   "cell_type": "code",
   "execution_count": null,
   "metadata": {},
   "outputs": [],
   "source": [
    "fulldata_worsecase = full_pipeline.fit_transform(df_worsecase)\n",
    "cat_encoder = aux_tools.CategoricalEncoder(encoding=\"ordinal\")\n",
    "fulldata_labels = df_worsecase['entity'].values.reshape(-1, 1)\n",
    "fulldata_worsecase_labels_ordinal = cat_encoder.fit_transform(fulldata_labels)"
   ]
  },
  {
   "cell_type": "code",
   "execution_count": null,
   "metadata": {},
   "outputs": [],
   "source": []
  },
  {
   "cell_type": "code",
   "execution_count": null,
   "metadata": {},
   "outputs": [],
   "source": [
    "ada_class = AdaBoostClassifier(random_state=42,\n",
    "                               base_estimator=svm.LinearSVC(),\n",
    "                               algorithm='SAMME')\n",
    "\n",
    "\n",
    "scores = cross_val_score(ada_class,\n",
    "                         fulldata_worsecase,\n",
    "                         fulldata_worsecase_labels_ordinal.ravel()\n",
    "                         #scoring='accuracy'\n",
    "                        )\n",
    "\n",
    "print(\"Accuracy: %0.2f (+/- %0.4f)\" % (scores.mean(), scores.std() * 2))"
   ]
  },
  {
   "cell_type": "code",
   "execution_count": null,
   "metadata": {},
   "outputs": [],
   "source": []
  },
  {
   "cell_type": "code",
   "execution_count": null,
   "metadata": {},
   "outputs": [],
   "source": []
  },
  {
   "cell_type": "code",
   "execution_count": null,
   "metadata": {},
   "outputs": [],
   "source": []
  },
  {
   "cell_type": "code",
   "execution_count": null,
   "metadata": {},
   "outputs": [],
   "source": []
  },
  {
   "cell_type": "code",
   "execution_count": null,
   "metadata": {},
   "outputs": [],
   "source": [
    "AdaBoostClassifier(random_state=42,\n",
    "                               base_estimator=svm.LinearSVC(),\n",
    "                               algorithm='SAMME')"
   ]
  },
  {
   "cell_type": "code",
   "execution_count": null,
   "metadata": {},
   "outputs": [],
   "source": []
  },
  {
   "cell_type": "code",
   "execution_count": null,
   "metadata": {},
   "outputs": [],
   "source": []
  },
  {
   "cell_type": "code",
   "execution_count": null,
   "metadata": {},
   "outputs": [],
   "source": []
  },
  {
   "cell_type": "code",
   "execution_count": null,
   "metadata": {},
   "outputs": [],
   "source": [
    "print(__doc__)\n",
    "\n",
    "# Author: Peter Prettenhofer <peter.prettenhofer@gmail.com>,\n",
    "#         Noel Dawe <noel.dawe@gmail.com>\n",
    "#\n",
    "# License: BSD 3 clause\n",
    "\n",
    "import numpy as np\n",
    "import matplotlib.pyplot as plt\n",
    "\n",
    "from sklearn import datasets\n",
    "from sklearn.tree import DecisionTreeClassifier\n",
    "from sklearn.metrics import zero_one_loss\n",
    "from sklearn.ensemble import AdaBoostClassifier\n",
    "\n",
    "\n",
    "n_estimators = 5\n",
    "# A learning rate of 1. may not be optimal for both SAMME and SAMME.R\n",
    "learning_rate = 1.\n",
    "\n",
    "X = fulldata\n",
    "y = fulldata_labels_ordinal.ravel()       \n",
    "\n",
    "\n",
    "X_train, X_test, y_train, y_test = train_test_split(X, y, #random_state=42,\n",
    "                                                    test_size=0.60)\n",
    "\n",
    "dt_stump = svm.LinearSVC()\n",
    "dt_stump.fit(X_train, y_train)\n",
    "dt_stump_err = 1.0 - dt_stump.score(X_test, y_test)\n",
    "\n",
    "\n",
    "ada_discrete = AdaBoostClassifier(\n",
    "    base_estimator=dt_stump,\n",
    "    learning_rate=learning_rate,\n",
    "    n_estimators=n_estimators,\n",
    "    algorithm=\"SAMME\")\n",
    "\n",
    "ada_discrete.fit(X_train, y_train)\n",
    "\n",
    "fig = plt.figure()\n",
    "ax = fig.add_subplot(111)\n",
    "\n",
    "ax.plot([1, n_estimators], [dt_err] * 2, 'k--',\n",
    "        label='Decision Tree Error')\n",
    "\n",
    "ada_discrete_err = np.zeros((n_estimators,))\n",
    "\n",
    "for i, y_pred in enumerate(ada_discrete.staged_predict(X_test)):\n",
    "    ada_discrete_err[i] = zero_one_loss(y_pred, y_test)\n",
    "\n",
    "ada_discrete_err_train = np.zeros((n_estimators,))\n",
    "for i, y_pred in enumerate(ada_discrete.staged_predict(X_train)):\n",
    "    ada_discrete_err_train[i] = zero_one_loss(y_pred, y_train)\n",
    "\n",
    "\n",
    "ax.plot(np.arange(n_estimators) + 1, ada_discrete_err,\n",
    "        label='Discrete AdaBoost Test Error',\n",
    "        color='red')\n",
    "ax.plot(np.arange(n_estimators) + 1, ada_discrete_err_train,\n",
    "        label='Discrete AdaBoost Train Error',\n",
    "        color='blue')\n",
    "\n",
    "#ax.set_ylim((0.0, 0.5))\n",
    "ax.set_xlabel('n_estimators')\n",
    "ax.set_ylabel('error rate')\n",
    "\n",
    "leg = ax.legend(loc='upper right', fancybox=True)\n",
    "#leg.get_frame().set_alpha(0.7)\n",
    "\n",
    "save_fig('adaerrors')\n",
    "\n",
    "plt.show()"
   ]
  },
  {
   "cell_type": "code",
   "execution_count": null,
   "metadata": {},
   "outputs": [],
   "source": []
  },
  {
   "cell_type": "code",
   "execution_count": null,
   "metadata": {},
   "outputs": [],
   "source": []
  },
  {
   "cell_type": "code",
   "execution_count": null,
   "metadata": {},
   "outputs": [],
   "source": []
  },
  {
   "cell_type": "code",
   "execution_count": null,
   "metadata": {},
   "outputs": [],
   "source": []
  },
  {
   "cell_type": "code",
   "execution_count": null,
   "metadata": {},
   "outputs": [],
   "source": [
    "from sklearn import svm\n",
    "from sklearn.discriminant_analysis import QuadraticDiscriminantAnalysis\n",
    "from sklearn.ensemble import RandomForestClassifier, AdaBoostClassifier\n",
    "from sklearn.gaussian_process import GaussianProcessClassifier\n",
    "from sklearn.gaussian_process.kernels import RBF\n",
    "from sklearn.model_selection import cross_val_score\n",
    "from sklearn.naive_bayes import GaussianNB\n",
    "from sklearn.neighbors import KNeighborsClassifier\n",
    "from sklearn.neural_network import MLPClassifier\n",
    "from sklearn.tree import DecisionTreeClassifier\n",
    "from sklearn.tree import DecisionTreeRegressor\n",
    "\n",
    "algos =[ (svm.SVC(),'svm svc'), # C-Support Vector Classification.\n",
    "         (svm.LinearSVC(), 'svm_linear'), # Linear Support Vector Classification.\n",
    "         #(svm.NuSVC(), 'nusvc'), # Nu-Support Vector Classification.\n",
    "         #(svm.NuSVR(), 'nusvr'), # Nu Support Vector Regression.\n",
    "         (svm.SVR(),'svr'), # Epsilon-Support Vector Regression.\n",
    "         (DecisionTreeClassifier(),'dtree'), # Decision Tree Classifier\n",
    "         (DecisionTreeRegressor(),'dtreerg'), # Decision Trees Regressor\n",
    "         (KNeighborsClassifier(n_neighbors=3),'near'), # K-nearest neighbors\n",
    "         (MLPClassifier(solver='adam', # Multi-layer Perceptron classifier\n",
    "                           alpha=1e-5,\n",
    "                           hidden_layer_sizes=(5, 2),\n",
    "                           #random_state=1,\n",
    "                           max_iter=10000,\n",
    "                           learning_rate='adaptive'),'neural'),\n",
    "        (KNeighborsClassifier(3),'knei_3'),\n",
    "        #(GaussianProcessClassifier(1.0 * RBF(1.0)),'gaussian'),\n",
    "        (RandomForestClassifier(max_depth=5, n_estimators=10, max_features=1),'randomforest'), # Random Forest Classifier\n",
    "        (AdaBoostClassifier(),'adaboost'), # AdaBoost Classifier\n",
    "        (GaussianNB(),'gaussianNB'), # Gaussian Naive Bayes (GaussianNB)\n",
    "        (QuadraticDiscriminantAnalysis(),'quadratic') # Quadratic Discriminant Analysis\n",
    "]\n",
    "\n",
    "for i in range(0,fulldata_labels_dense.shape[1]):\n",
    "    print(cat_encoder.categories_[0][i])                   \n",
    "    \n",
    "    for al in algos:\n",
    "        \n",
    "        classifier, name = al\n",
    "    \n",
    "        scores = cross_val_score(classifier,\n",
    "                             fulldata,\n",
    "                             fulldata_labels_dense[:,i].ravel()\n",
    "                             #scoring='accuracy'\n",
    "                            )\n",
    "\n",
    "        print(\"Accuracy %s: %0.2f (+/- %0.4f)\" % (name, scores.mean(), scores.std() * 2 * 100))\n",
    "    print(\"\")"
   ]
  },
  {
   "cell_type": "code",
   "execution_count": null,
   "metadata": {},
   "outputs": [],
   "source": [
    "for i, j in enumerate(range(11,20)):\n",
    "    print(f\"{i}, {j}\")"
   ]
  },
  {
   "cell_type": "code",
   "execution_count": null,
   "metadata": {},
   "outputs": [],
   "source": []
  },
  {
   "cell_type": "code",
   "execution_count": null,
   "metadata": {},
   "outputs": [],
   "source": []
  }
 ],
 "metadata": {
  "kernelspec": {
   "display_name": "Python 3",
   "language": "python",
   "name": "python3"
  },
  "language_info": {
   "codemirror_mode": {
    "name": "ipython",
    "version": 3
   },
   "file_extension": ".py",
   "mimetype": "text/x-python",
   "name": "python",
   "nbconvert_exporter": "python",
   "pygments_lexer": "ipython3",
   "version": "3.6.5"
  }
 },
 "nbformat": 4,
 "nbformat_minor": 2
}
